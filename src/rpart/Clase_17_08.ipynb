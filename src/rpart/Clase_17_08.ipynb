{
 "cells": [
  {
   "cell_type": "code",
   "execution_count": 19,
   "id": "13001c12-88d7-473a-b0a0-70ee3ec2c3cd",
   "metadata": {},
   "outputs": [
    {
     "name": "stderr",
     "output_type": "stream",
     "text": [
      "Loading required package: ggplot2\n",
      "\n"
     ]
    }
   ],
   "source": [
    "##\n",
    "## Sobre el Orden\n",
    "##\n",
    "## ---------------------------\n",
    "## Step 1: Ejecutando un árbol\n",
    "## ---------------------------\n",
    "##\n",
    "## A tree with strong roots laughs at storms.\n",
    "## --- Malay proverb\n",
    "##\n",
    "\n",
    "# Librerías necesarias\n",
    "require(\"data.table\")\n",
    "require(\"rpart\")\n",
    "require(\"ggplot2\")\n"
   ]
  },
  {
   "cell_type": "code",
   "execution_count": 18,
   "id": "02f83b09-c654-40e2-a37a-afd78c1d8f01",
   "metadata": {},
   "outputs": [
    {
     "name": "stderr",
     "output_type": "stream",
     "text": [
      "Installing package into 'C:/Users/yvidal/AppData/Local/R/win-library/4.2'\n",
      "(as 'lib' is unspecified)\n",
      "\n",
      "also installing the dependencies 'colorspace', 'farver', 'labeling', 'munsell', 'RColorBrewer', 'viridisLite', 'gtable', 'isoband', 'scales'\n",
      "\n",
      "\n"
     ]
    },
    {
     "name": "stdout",
     "output_type": "stream",
     "text": [
      "package 'colorspace' successfully unpacked and MD5 sums checked\n",
      "package 'farver' successfully unpacked and MD5 sums checked\n",
      "package 'labeling' successfully unpacked and MD5 sums checked\n",
      "package 'munsell' successfully unpacked and MD5 sums checked\n",
      "package 'RColorBrewer' successfully unpacked and MD5 sums checked\n",
      "package 'viridisLite' successfully unpacked and MD5 sums checked\n",
      "package 'gtable' successfully unpacked and MD5 sums checked\n",
      "package 'isoband' successfully unpacked and MD5 sums checked\n",
      "package 'scales' successfully unpacked and MD5 sums checked\n",
      "package 'ggplot2' successfully unpacked and MD5 sums checked\n",
      "\n",
      "The downloaded binary packages are in\n",
      "\tC:\\Users\\yvidal\\AppData\\Local\\Temp\\RtmpS0xxJZ\\downloaded_packages\n"
     ]
    }
   ],
   "source": [
    "install.packages(\"ggplot2\")"
   ]
  },
  {
   "cell_type": "code",
   "execution_count": 8,
   "id": "3b6e09d5-5b71-4ada-b53a-f810608d5a1c",
   "metadata": {},
   "outputs": [],
   "source": [
    "# Poner la carpeta de la materia de SU computadora local\n",
    "setwd(\"C:/YAGO/Maestría Ciencias de Datos/07-DMEYF/\")\n",
    "# Poner sus semillas\n",
    "semillas <- c(444457,444583,444697,444743,444817)"
   ]
  },
  {
   "cell_type": "code",
   "execution_count": 9,
   "id": "e98704ce-becb-4c6d-8272-213c98373d45",
   "metadata": {},
   "outputs": [],
   "source": [
    "\n",
    "# Cargamos el dataset\n",
    "dataset <- fread(\"./datasets/competencia1_2022.csv\")\n",
    "dtrain <- dataset[foto_mes == 202101]\n"
   ]
  },
  {
   "cell_type": "code",
   "execution_count": 11,
   "id": "1c5bdaee-811c-43da-a7c8-2b4350ea3e20",
   "metadata": {},
   "outputs": [
    {
     "data": {
      "text/plain": [
       "n= 161342 \n",
       "\n",
       "node), split, n, loss, yval, (yprob)\n",
       "      * denotes terminal node\n",
       "\n",
       " 1) root 161342 1514 CONTINUA (0.004115481 0.005268312 0.990616207)  \n",
       "   2) ctrx_quarter< 13.5 8400  711 CONTINUA (0.034761905 0.049880952 0.915357143)  \n",
       "     4) mcuentas_saldo< -1256.1 2928  416 CONTINUA (0.061816940 0.080259563 0.857923497)  \n",
       "       8) cprestamos_personales< 1.5 2328  396 CONTINUA (0.074312715 0.095790378 0.829896907)  \n",
       "        16) cdescubierto_preacordado< 0.5 321  116 CONTINUA (0.171339564 0.190031153 0.638629283) *\n",
       "        17) cdescubierto_preacordado>=0.5 2007  280 CONTINUA (0.058794220 0.080717489 0.860488291) *\n",
       "       9) cprestamos_personales>=1.5 600   20 CONTINUA (0.013333333 0.020000000 0.966666667)  \n",
       "        18) Visa_status>=8 74    3 CONTINUA (0.013513514 0.027027027 0.959459459) *\n",
       "        19) Visa_status< 8 526   17 CONTINUA (0.013307985 0.019011407 0.967680608) *\n",
       "     5) mcuentas_saldo>=-1256.1 5472  295 CONTINUA (0.020285088 0.033625731 0.946089181)  \n",
       "      10) mcaja_ahorro< 2601.125 3371  236 CONTINUA (0.025215070 0.044793830 0.929991101)  \n",
       "        20) Visa_fechaalta>=4538.5 434   56 CONTINUA (0.036866359 0.092165899 0.870967742) *\n",
       "        21) Visa_fechaalta< 4538.5 2937  180 CONTINUA (0.023493361 0.037793667 0.938712972) *\n",
       "      11) mcaja_ahorro>=2601.125 2101   59 CONTINUA (0.012375059 0.015706806 0.971918134)  \n",
       "        22) mrentabilidad>=74318.35 1    0 BAJA+1 (1.000000000 0.000000000 0.000000000) *\n",
       "        23) mrentabilidad< 74318.35 2100   58 CONTINUA (0.011904762 0.015714286 0.972380952) *\n",
       "   3) ctrx_quarter>=13.5 152942  803 CONTINUA (0.002432295 0.002818062 0.994749644)  \n",
       "     6) Visa_status>=8 5497  130 CONTINUA (0.011096962 0.012552301 0.976350737)  \n",
       "      12) Master_status>=8 4510  114 CONTINUA (0.012416851 0.012860310 0.974722838)  \n",
       "        24) ctarjeta_master_debitos_automaticos>=0.5 11    7 BAJA+1 (0.363636364 0.272727273 0.363636364) *\n",
       "        25) ctarjeta_master_debitos_automaticos< 0.5 4499  107 CONTINUA (0.011558124 0.012224939 0.976216937) *\n",
       "      13) Master_status< 8 987   16 CONTINUA (0.005065856 0.011144883 0.983789260)  \n",
       "        26) cliente_edad>=83.5 1    0 BAJA+1 (1.000000000 0.000000000 0.000000000) *\n",
       "        27) cliente_edad< 83.5 986   15 CONTINUA (0.004056795 0.011156187 0.984787018) *\n",
       "     7) Visa_status< 8 147445  673 CONTINUA (0.002109261 0.002455153 0.995435586)  \n",
       "      14) ctrx_quarter< 37.5 14604  348 CONTINUA (0.011640646 0.012188442 0.976170912)  \n",
       "        28) mpasivos_margen< 74.005 4120  213 CONTINUA (0.026213592 0.025485437 0.948300971) *\n",
       "        29) mpasivos_margen>=74.005 10484  135 CONTINUA (0.005913773 0.006962991 0.987123235) *\n",
       "      15) ctrx_quarter>=37.5 132841  325 CONTINUA (0.001061419 0.001385115 0.997553466)  \n",
       "        30) cproductos< 4.5 1    0 BAJA+1 (1.000000000 0.000000000 0.000000000) *\n",
       "        31) cproductos>=4.5 132840  324 CONTINUA (0.001053899 0.001385125 0.997560976) *"
      ]
     },
     "metadata": {},
     "output_type": "display_data"
    }
   ],
   "source": [
    "# Generamos el primer modelo\n",
    "arbol <- rpart(formula =    \"clase_ternaria ~ .\",\n",
    "                 data =      dtrain,\n",
    "                 xval =      0,\n",
    "                 cp =       -0.3,\n",
    "                 minsplit =  0,\n",
    "                 minbucket = 1,\n",
    "                 maxdepth =  4)\n",
    "\n",
    "View(arbol)\n",
    "\n",
    "## Preguntas\n",
    "## Usualmente se suele cortar las variables en 2 intervalos\n",
    "## - ¿Se podría cortar en más intervalos?\n",
    "## - ¿Cuál sería el costo?\n",
    "## - ¿Se obtendrían mejores resultados?\n",
    "##"
   ]
  },
  {
   "cell_type": "code",
   "execution_count": 12,
   "id": "3f2a57d9-a029-461a-969c-9a24baf750c3",
   "metadata": {},
   "outputs": [
    {
     "data": {
      "text/html": [
       "<table class=\"dataframe\">\n",
       "<caption>A data.table: 16 × 6</caption>\n",
       "<thead>\n",
       "\t<tr><th scope=col>leaf</th><th scope=col>BAJA+1</th><th scope=col>BAJA+2</th><th scope=col>CONTINUA</th><th scope=col>y</th><th scope=col>TOTAL</th></tr>\n",
       "\t<tr><th scope=col>&lt;int&gt;</th><th scope=col>&lt;int&gt;</th><th scope=col>&lt;int&gt;</th><th scope=col>&lt;int&gt;</th><th scope=col>&lt;chr&gt;</th><th scope=col>&lt;int&gt;</th></tr>\n",
       "</thead>\n",
       "<tbody>\n",
       "\t<tr><td> 5</td><td> 55</td><td> 61</td><td>   205</td><td>CONTINUA</td><td>   321</td></tr>\n",
       "\t<tr><td> 6</td><td>118</td><td>162</td><td>  1727</td><td>CONTINUA</td><td>  2007</td></tr>\n",
       "\t<tr><td> 8</td><td>  1</td><td>  2</td><td>    71</td><td>CONTINUA</td><td>    74</td></tr>\n",
       "\t<tr><td> 9</td><td>  7</td><td> 10</td><td>   509</td><td>CONTINUA</td><td>   526</td></tr>\n",
       "\t<tr><td>12</td><td> 16</td><td> 40</td><td>   378</td><td>CONTINUA</td><td>   434</td></tr>\n",
       "\t<tr><td>13</td><td> 69</td><td>111</td><td>  2757</td><td>CONTINUA</td><td>  2937</td></tr>\n",
       "\t<tr><td>15</td><td>  1</td><td>  0</td><td>     0</td><td>BAJA+1  </td><td>     1</td></tr>\n",
       "\t<tr><td>16</td><td> 25</td><td> 33</td><td>  2042</td><td>CONTINUA</td><td>  2100</td></tr>\n",
       "\t<tr><td>20</td><td>  4</td><td>  3</td><td>     4</td><td>CONTINUA</td><td>    11</td></tr>\n",
       "\t<tr><td>21</td><td> 52</td><td> 55</td><td>  4392</td><td>CONTINUA</td><td>  4499</td></tr>\n",
       "\t<tr><td>23</td><td>  1</td><td>  0</td><td>     0</td><td>BAJA+1  </td><td>     1</td></tr>\n",
       "\t<tr><td>24</td><td>  4</td><td> 11</td><td>   971</td><td>CONTINUA</td><td>   986</td></tr>\n",
       "\t<tr><td>27</td><td>108</td><td>105</td><td>  3907</td><td>CONTINUA</td><td>  4120</td></tr>\n",
       "\t<tr><td>28</td><td> 62</td><td> 73</td><td> 10349</td><td>CONTINUA</td><td> 10484</td></tr>\n",
       "\t<tr><td>30</td><td>  1</td><td>  0</td><td>     0</td><td>BAJA+1  </td><td>     1</td></tr>\n",
       "\t<tr><td>31</td><td>140</td><td>184</td><td>132516</td><td>CONTINUA</td><td>132840</td></tr>\n",
       "</tbody>\n",
       "</table>\n"
      ],
      "text/latex": [
       "A data.table: 16 × 6\n",
       "\\begin{tabular}{llllll}\n",
       " leaf & BAJA+1 & BAJA+2 & CONTINUA & y & TOTAL\\\\\n",
       " <int> & <int> & <int> & <int> & <chr> & <int>\\\\\n",
       "\\hline\n",
       "\t  5 &  55 &  61 &    205 & CONTINUA &    321\\\\\n",
       "\t  6 & 118 & 162 &   1727 & CONTINUA &   2007\\\\\n",
       "\t  8 &   1 &   2 &     71 & CONTINUA &     74\\\\\n",
       "\t  9 &   7 &  10 &    509 & CONTINUA &    526\\\\\n",
       "\t 12 &  16 &  40 &    378 & CONTINUA &    434\\\\\n",
       "\t 13 &  69 & 111 &   2757 & CONTINUA &   2937\\\\\n",
       "\t 15 &   1 &   0 &      0 & BAJA+1   &      1\\\\\n",
       "\t 16 &  25 &  33 &   2042 & CONTINUA &   2100\\\\\n",
       "\t 20 &   4 &   3 &      4 & CONTINUA &     11\\\\\n",
       "\t 21 &  52 &  55 &   4392 & CONTINUA &   4499\\\\\n",
       "\t 23 &   1 &   0 &      0 & BAJA+1   &      1\\\\\n",
       "\t 24 &   4 &  11 &    971 & CONTINUA &    986\\\\\n",
       "\t 27 & 108 & 105 &   3907 & CONTINUA &   4120\\\\\n",
       "\t 28 &  62 &  73 &  10349 & CONTINUA &  10484\\\\\n",
       "\t 30 &   1 &   0 &      0 & BAJA+1   &      1\\\\\n",
       "\t 31 & 140 & 184 & 132516 & CONTINUA & 132840\\\\\n",
       "\\end{tabular}\n"
      ],
      "text/markdown": [
       "\n",
       "A data.table: 16 × 6\n",
       "\n",
       "| leaf &lt;int&gt; | BAJA+1 &lt;int&gt; | BAJA+2 &lt;int&gt; | CONTINUA &lt;int&gt; | y &lt;chr&gt; | TOTAL &lt;int&gt; |\n",
       "|---|---|---|---|---|---|\n",
       "|  5 |  55 |  61 |    205 | CONTINUA |    321 |\n",
       "|  6 | 118 | 162 |   1727 | CONTINUA |   2007 |\n",
       "|  8 |   1 |   2 |     71 | CONTINUA |     74 |\n",
       "|  9 |   7 |  10 |    509 | CONTINUA |    526 |\n",
       "| 12 |  16 |  40 |    378 | CONTINUA |    434 |\n",
       "| 13 |  69 | 111 |   2757 | CONTINUA |   2937 |\n",
       "| 15 |   1 |   0 |      0 | BAJA+1   |      1 |\n",
       "| 16 |  25 |  33 |   2042 | CONTINUA |   2100 |\n",
       "| 20 |   4 |   3 |      4 | CONTINUA |     11 |\n",
       "| 21 |  52 |  55 |   4392 | CONTINUA |   4499 |\n",
       "| 23 |   1 |   0 |      0 | BAJA+1   |      1 |\n",
       "| 24 |   4 |  11 |    971 | CONTINUA |    986 |\n",
       "| 27 | 108 | 105 |   3907 | CONTINUA |   4120 |\n",
       "| 28 |  62 |  73 |  10349 | CONTINUA |  10484 |\n",
       "| 30 |   1 |   0 |      0 | BAJA+1   |      1 |\n",
       "| 31 | 140 | 184 | 132516 | CONTINUA | 132840 |\n",
       "\n"
      ]
     },
     "metadata": {},
     "output_type": "display_data"
    }
   ],
   "source": [
    "## ---------------------------\n",
    "## Step 2: De árbol a tabla\n",
    "## ---------------------------\n",
    "\n",
    "# La siguiente función devuelve todas las hojas (nodos terminales) en una tabla\n",
    "# para poder analizar mejor nuestro árbol.\n",
    "tablahojas <- function(arbol, datos, target = \"clase_ternaria\") {\n",
    "  # Tomamos la columna con el target\n",
    "  target_vector <- datos[, get(target)]\n",
    "  # Tomamos las clases de nuestro target\n",
    "  classes <- unique(target_vector)\n",
    "  # Tomamos las posicion de las hojas que aplican a los registro de nuestro ds\n",
    "  row_leaf <- unique(arbol$where)\n",
    "  leaves <- data.table(row_frame = row_leaf)\n",
    "  setkey(leaves,row_frame)\n",
    "  # Relacion target ~ hojas\n",
    "  leaves_target <- dcast(\n",
    "    data.table(\n",
    "      target = target_vector,\n",
    "      leaf = arbol$where),\n",
    "    leaf ~ target, length,\n",
    "    value.var = \"target\")\n",
    "  setkey(leaves_target, leaf)\n",
    "  # Juntamos todo\n",
    "  leaves_target <- leaves_target[leaves, nomatch = 0]\n",
    "  # Sumamos algunas columnas calculadas\n",
    "  colnames(leaves_target[, classes, with = FALSE])[apply(\n",
    "    leaves_target[, classes, with = FALSE], 1, which.max)]\n",
    "  # Clase mayoritaria\n",
    "  leaves_target[, y := colnames(\n",
    "                    leaves_target[, classes, with = FALSE]\n",
    "                  )[apply(leaves_target[, classes, with = FALSE],\n",
    "                   1, which.max)]]\n",
    "  # Cantidad de elementos de la hoja\n",
    "  leaves_target[, TOTAL := unlist(Reduce(function(a, b) Map(`+`, a, b), .SD)),\n",
    "                 .SDcols = classes]\n",
    "  leaves_target\n",
    "}\n",
    "\n",
    "# Ejecutamos la función sobre nuestro modelo, con nuestros datos\n",
    "hojas <- tablahojas(arbol, dtrain)\n",
    "View(hojas)\n",
    "\n",
    "## Preguntas\n",
    "## - ¿Con qué criterio eligió la clase de cada hoja que determino la\n",
    "##   clasificación de los registros?\n",
    "## - ¿Cuántas hojas con BAJAS+2 hay?"
   ]
  },
  {
   "cell_type": "code",
   "execution_count": 13,
   "id": "a01e6532-cdbf-4428-a71a-678e670b45d1",
   "metadata": {},
   "outputs": [
    {
     "data": {
      "text/html": [
       "<table class=\"dataframe\">\n",
       "<caption>A data.table: 16 × 7</caption>\n",
       "<thead>\n",
       "\t<tr><th scope=col>leaf</th><th scope=col>BAJA+1</th><th scope=col>BAJA+2</th><th scope=col>CONTINUA</th><th scope=col>y</th><th scope=col>TOTAL</th><th scope=col>ganancia</th></tr>\n",
       "\t<tr><th scope=col>&lt;int&gt;</th><th scope=col>&lt;int&gt;</th><th scope=col>&lt;int&gt;</th><th scope=col>&lt;int&gt;</th><th scope=col>&lt;chr&gt;</th><th scope=col>&lt;int&gt;</th><th scope=col>&lt;dbl&gt;</th></tr>\n",
       "</thead>\n",
       "<tbody>\n",
       "\t<tr><td> 5</td><td> 55</td><td> 61</td><td>   205</td><td>CONTINUA</td><td>   321</td><td>   4238000</td></tr>\n",
       "\t<tr><td> 6</td><td>118</td><td>162</td><td>  1727</td><td>CONTINUA</td><td>  2007</td><td>   8946000</td></tr>\n",
       "\t<tr><td> 8</td><td>  1</td><td>  2</td><td>    71</td><td>CONTINUA</td><td>    74</td><td>     12000</td></tr>\n",
       "\t<tr><td> 9</td><td>  7</td><td> 10</td><td>   509</td><td>CONTINUA</td><td>   526</td><td>   -252000</td></tr>\n",
       "\t<tr><td>12</td><td> 16</td><td> 40</td><td>   378</td><td>CONTINUA</td><td>   434</td><td>   2332000</td></tr>\n",
       "\t<tr><td>13</td><td> 69</td><td>111</td><td>  2757</td><td>CONTINUA</td><td>  2937</td><td>   3006000</td></tr>\n",
       "\t<tr><td>15</td><td>  1</td><td>  0</td><td>     0</td><td>BAJA+1  </td><td>     1</td><td>     -2000</td></tr>\n",
       "\t<tr><td>16</td><td> 25</td><td> 33</td><td>  2042</td><td>CONTINUA</td><td>  2100</td><td>  -1560000</td></tr>\n",
       "\t<tr><td>20</td><td>  4</td><td>  3</td><td>     4</td><td>CONTINUA</td><td>    11</td><td>    218000</td></tr>\n",
       "\t<tr><td>21</td><td> 52</td><td> 55</td><td>  4392</td><td>CONTINUA</td><td>  4499</td><td>  -4598000</td></tr>\n",
       "\t<tr><td>23</td><td>  1</td><td>  0</td><td>     0</td><td>BAJA+1  </td><td>     1</td><td>     -2000</td></tr>\n",
       "\t<tr><td>24</td><td>  4</td><td> 11</td><td>   971</td><td>CONTINUA</td><td>   986</td><td>  -1092000</td></tr>\n",
       "\t<tr><td>27</td><td>108</td><td>105</td><td>  3907</td><td>CONTINUA</td><td>  4120</td><td>    160000</td></tr>\n",
       "\t<tr><td>28</td><td> 62</td><td> 73</td><td> 10349</td><td>CONTINUA</td><td> 10484</td><td> -15128000</td></tr>\n",
       "\t<tr><td>30</td><td>  1</td><td>  0</td><td>     0</td><td>BAJA+1  </td><td>     1</td><td>     -2000</td></tr>\n",
       "\t<tr><td>31</td><td>140</td><td>184</td><td>132516</td><td>CONTINUA</td><td>132840</td><td>-250960000</td></tr>\n",
       "</tbody>\n",
       "</table>\n"
      ],
      "text/latex": [
       "A data.table: 16 × 7\n",
       "\\begin{tabular}{lllllll}\n",
       " leaf & BAJA+1 & BAJA+2 & CONTINUA & y & TOTAL & ganancia\\\\\n",
       " <int> & <int> & <int> & <int> & <chr> & <int> & <dbl>\\\\\n",
       "\\hline\n",
       "\t  5 &  55 &  61 &    205 & CONTINUA &    321 &    4238000\\\\\n",
       "\t  6 & 118 & 162 &   1727 & CONTINUA &   2007 &    8946000\\\\\n",
       "\t  8 &   1 &   2 &     71 & CONTINUA &     74 &      12000\\\\\n",
       "\t  9 &   7 &  10 &    509 & CONTINUA &    526 &    -252000\\\\\n",
       "\t 12 &  16 &  40 &    378 & CONTINUA &    434 &    2332000\\\\\n",
       "\t 13 &  69 & 111 &   2757 & CONTINUA &   2937 &    3006000\\\\\n",
       "\t 15 &   1 &   0 &      0 & BAJA+1   &      1 &      -2000\\\\\n",
       "\t 16 &  25 &  33 &   2042 & CONTINUA &   2100 &   -1560000\\\\\n",
       "\t 20 &   4 &   3 &      4 & CONTINUA &     11 &     218000\\\\\n",
       "\t 21 &  52 &  55 &   4392 & CONTINUA &   4499 &   -4598000\\\\\n",
       "\t 23 &   1 &   0 &      0 & BAJA+1   &      1 &      -2000\\\\\n",
       "\t 24 &   4 &  11 &    971 & CONTINUA &    986 &   -1092000\\\\\n",
       "\t 27 & 108 & 105 &   3907 & CONTINUA &   4120 &     160000\\\\\n",
       "\t 28 &  62 &  73 &  10349 & CONTINUA &  10484 &  -15128000\\\\\n",
       "\t 30 &   1 &   0 &      0 & BAJA+1   &      1 &      -2000\\\\\n",
       "\t 31 & 140 & 184 & 132516 & CONTINUA & 132840 & -250960000\\\\\n",
       "\\end{tabular}\n"
      ],
      "text/markdown": [
       "\n",
       "A data.table: 16 × 7\n",
       "\n",
       "| leaf &lt;int&gt; | BAJA+1 &lt;int&gt; | BAJA+2 &lt;int&gt; | CONTINUA &lt;int&gt; | y &lt;chr&gt; | TOTAL &lt;int&gt; | ganancia &lt;dbl&gt; |\n",
       "|---|---|---|---|---|---|---|\n",
       "|  5 |  55 |  61 |    205 | CONTINUA |    321 |    4238000 |\n",
       "|  6 | 118 | 162 |   1727 | CONTINUA |   2007 |    8946000 |\n",
       "|  8 |   1 |   2 |     71 | CONTINUA |     74 |      12000 |\n",
       "|  9 |   7 |  10 |    509 | CONTINUA |    526 |    -252000 |\n",
       "| 12 |  16 |  40 |    378 | CONTINUA |    434 |    2332000 |\n",
       "| 13 |  69 | 111 |   2757 | CONTINUA |   2937 |    3006000 |\n",
       "| 15 |   1 |   0 |      0 | BAJA+1   |      1 |      -2000 |\n",
       "| 16 |  25 |  33 |   2042 | CONTINUA |   2100 |   -1560000 |\n",
       "| 20 |   4 |   3 |      4 | CONTINUA |     11 |     218000 |\n",
       "| 21 |  52 |  55 |   4392 | CONTINUA |   4499 |   -4598000 |\n",
       "| 23 |   1 |   0 |      0 | BAJA+1   |      1 |      -2000 |\n",
       "| 24 |   4 |  11 |    971 | CONTINUA |    986 |   -1092000 |\n",
       "| 27 | 108 | 105 |   3907 | CONTINUA |   4120 |     160000 |\n",
       "| 28 |  62 |  73 |  10349 | CONTINUA |  10484 |  -15128000 |\n",
       "| 30 |   1 |   0 |      0 | BAJA+1   |      1 |      -2000 |\n",
       "| 31 | 140 | 184 | 132516 | CONTINUA | 132840 | -250960000 |\n",
       "\n"
      ],
      "text/plain": [
       "   leaf BAJA+1 BAJA+2 CONTINUA y        TOTAL  ganancia  \n",
       "1   5    55     61       205   CONTINUA    321    4238000\n",
       "2   6   118    162      1727   CONTINUA   2007    8946000\n",
       "3   8     1      2        71   CONTINUA     74      12000\n",
       "4   9     7     10       509   CONTINUA    526    -252000\n",
       "5  12    16     40       378   CONTINUA    434    2332000\n",
       "6  13    69    111      2757   CONTINUA   2937    3006000\n",
       "7  15     1      0         0   BAJA+1        1      -2000\n",
       "8  16    25     33      2042   CONTINUA   2100   -1560000\n",
       "9  20     4      3         4   CONTINUA     11     218000\n",
       "10 21    52     55      4392   CONTINUA   4499   -4598000\n",
       "11 23     1      0         0   BAJA+1        1      -2000\n",
       "12 24     4     11       971   CONTINUA    986   -1092000\n",
       "13 27   108    105      3907   CONTINUA   4120     160000\n",
       "14 28    62     73     10349   CONTINUA  10484  -15128000\n",
       "15 30     1      0         0   BAJA+1        1      -2000\n",
       "16 31   140    184    132516   CONTINUA 132840 -250960000"
      ]
     },
     "metadata": {},
     "output_type": "display_data"
    }
   ],
   "source": [
    "## ---------------------------\n",
    "## Step 3: Calculando la ganancia de cada hoja\n",
    "## ---------------------------\n",
    "\n",
    "# Agregamos un nuevo campo de nombre ganancia\n",
    "hojas[, ganancia := `BAJA+2` * 78000 - 2000 * (CONTINUA + `BAJA+1`)]\n",
    "View(hojas)\n",
    "\n",
    "## Pregunta\n",
    "## - ¿Cuantás hojas que no son BAJA+2 tienen aún así ganancia positiva?"
   ]
  },
  {
   "cell_type": "code",
   "execution_count": 14,
   "id": "5ec38133-45da-495b-a82c-3a88c8acc3fd",
   "metadata": {},
   "outputs": [
    {
     "data": {
      "text/html": [
       "<table class=\"dataframe\">\n",
       "<caption>A data.table: 1 × 3</caption>\n",
       "<thead>\n",
       "\t<tr><th scope=col>ganancia</th><th scope=col>enviados</th><th scope=col>sevan</th></tr>\n",
       "\t<tr><th scope=col>&lt;dbl&gt;</th><th scope=col>&lt;int&gt;</th><th scope=col>&lt;int&gt;</th></tr>\n",
       "</thead>\n",
       "<tbody>\n",
       "\t<tr><td>18912000</td><td>9904</td><td>484</td></tr>\n",
       "</tbody>\n",
       "</table>\n"
      ],
      "text/latex": [
       "A data.table: 1 × 3\n",
       "\\begin{tabular}{lll}\n",
       " ganancia & enviados & sevan\\\\\n",
       " <dbl> & <int> & <int>\\\\\n",
       "\\hline\n",
       "\t 18912000 & 9904 & 484\\\\\n",
       "\\end{tabular}\n"
      ],
      "text/markdown": [
       "\n",
       "A data.table: 1 × 3\n",
       "\n",
       "| ganancia &lt;dbl&gt; | enviados &lt;int&gt; | sevan &lt;int&gt; |\n",
       "|---|---|---|\n",
       "| 18912000 | 9904 | 484 |\n",
       "\n"
      ],
      "text/plain": [
       "  ganancia enviados sevan\n",
       "1 18912000 9904     484  "
      ]
     },
     "metadata": {},
     "output_type": "display_data"
    }
   ],
   "source": [
    "## ---------------------------\n",
    "## Step 4: Sumarizando el envío\n",
    "## ---------------------------\n",
    "\n",
    "View(hojas[ganancia > 0, .(\n",
    "    ganancia = sum(ganancia),\n",
    "    enviados = sum(TOTAL),\n",
    "    sevan = sum(`BAJA+2`))])\n",
    "\n",
    "# lift -> métrica que explica cuanto mejoraste con respecto al azar anterior. \n",
    "## Preguntas\n",
    "## Si enviaramos todos los casos de las hojas con ganancia positiva\n",
    "## - ¿Cuánta ganancia tendríamos?\n",
    "## - ¿Cuánta personas estimularíamos?\n",
    "## - ¿A cuántas personas acertaríamos?"
   ]
  },
  {
   "cell_type": "code",
   "execution_count": 15,
   "id": "61e8c31a-9f89-4571-9eb2-cf70c7ba7a15",
   "metadata": {},
   "outputs": [
    {
     "data": {
      "text/html": [
       "<table class=\"dataframe\">\n",
       "<caption>A data.table: 16 × 6</caption>\n",
       "<thead>\n",
       "\t<tr><th scope=col>leaf</th><th scope=col>evento</th><th scope=col>noevento</th><th scope=col>y</th><th scope=col>TOTAL</th><th scope=col>ganancia</th></tr>\n",
       "\t<tr><th scope=col>&lt;int&gt;</th><th scope=col>&lt;int&gt;</th><th scope=col>&lt;int&gt;</th><th scope=col>&lt;chr&gt;</th><th scope=col>&lt;int&gt;</th><th scope=col>&lt;dbl&gt;</th></tr>\n",
       "</thead>\n",
       "<tbody>\n",
       "\t<tr><td> 5</td><td> 60</td><td>   219</td><td>noevento</td><td>   279</td><td>   4242000</td></tr>\n",
       "\t<tr><td> 6</td><td>137</td><td>  1402</td><td>noevento</td><td>  1539</td><td>   7882000</td></tr>\n",
       "\t<tr><td> 8</td><td>  5</td><td>   250</td><td>noevento</td><td>   255</td><td>   -110000</td></tr>\n",
       "\t<tr><td> 9</td><td>  7</td><td>   237</td><td>noevento</td><td>   244</td><td>     72000</td></tr>\n",
       "\t<tr><td>12</td><td> 18</td><td>   121</td><td>noevento</td><td>   139</td><td>   1162000</td></tr>\n",
       "\t<tr><td>13</td><td> 69</td><td>  1362</td><td>noevento</td><td>  1431</td><td>   2658000</td></tr>\n",
       "\t<tr><td>15</td><td> 29</td><td>   566</td><td>noevento</td><td>   595</td><td>   1130000</td></tr>\n",
       "\t<tr><td>16</td><td> 35</td><td>  1773</td><td>noevento</td><td>  1808</td><td>   -816000</td></tr>\n",
       "\t<tr><td>20</td><td>  3</td><td>     4</td><td>noevento</td><td>     7</td><td>    226000</td></tr>\n",
       "\t<tr><td>21</td><td>173</td><td>  5278</td><td>noevento</td><td>  5451</td><td>   2938000</td></tr>\n",
       "\t<tr><td>23</td><td>  6</td><td>   301</td><td>noevento</td><td>   307</td><td>   -134000</td></tr>\n",
       "\t<tr><td>24</td><td> 32</td><td>  5179</td><td>noevento</td><td>  5211</td><td>  -7862000</td></tr>\n",
       "\t<tr><td>27</td><td>  5</td><td>    22</td><td>noevento</td><td>    27</td><td>    346000</td></tr>\n",
       "\t<tr><td>28</td><td> 39</td><td>  4573</td><td>noevento</td><td>  4612</td><td>  -6104000</td></tr>\n",
       "\t<tr><td>30</td><td> 95</td><td> 13673</td><td>noevento</td><td> 13768</td><td> -19936000</td></tr>\n",
       "\t<tr><td>31</td><td>137</td><td>125532</td><td>noevento</td><td>125669</td><td>-240378000</td></tr>\n",
       "</tbody>\n",
       "</table>\n"
      ],
      "text/latex": [
       "A data.table: 16 × 6\n",
       "\\begin{tabular}{llllll}\n",
       " leaf & evento & noevento & y & TOTAL & ganancia\\\\\n",
       " <int> & <int> & <int> & <chr> & <int> & <dbl>\\\\\n",
       "\\hline\n",
       "\t  5 &  60 &    219 & noevento &    279 &    4242000\\\\\n",
       "\t  6 & 137 &   1402 & noevento &   1539 &    7882000\\\\\n",
       "\t  8 &   5 &    250 & noevento &    255 &    -110000\\\\\n",
       "\t  9 &   7 &    237 & noevento &    244 &      72000\\\\\n",
       "\t 12 &  18 &    121 & noevento &    139 &    1162000\\\\\n",
       "\t 13 &  69 &   1362 & noevento &   1431 &    2658000\\\\\n",
       "\t 15 &  29 &    566 & noevento &    595 &    1130000\\\\\n",
       "\t 16 &  35 &   1773 & noevento &   1808 &    -816000\\\\\n",
       "\t 20 &   3 &      4 & noevento &      7 &     226000\\\\\n",
       "\t 21 & 173 &   5278 & noevento &   5451 &    2938000\\\\\n",
       "\t 23 &   6 &    301 & noevento &    307 &    -134000\\\\\n",
       "\t 24 &  32 &   5179 & noevento &   5211 &   -7862000\\\\\n",
       "\t 27 &   5 &     22 & noevento &     27 &     346000\\\\\n",
       "\t 28 &  39 &   4573 & noevento &   4612 &   -6104000\\\\\n",
       "\t 30 &  95 &  13673 & noevento &  13768 &  -19936000\\\\\n",
       "\t 31 & 137 & 125532 & noevento & 125669 & -240378000\\\\\n",
       "\\end{tabular}\n"
      ],
      "text/markdown": [
       "\n",
       "A data.table: 16 × 6\n",
       "\n",
       "| leaf &lt;int&gt; | evento &lt;int&gt; | noevento &lt;int&gt; | y &lt;chr&gt; | TOTAL &lt;int&gt; | ganancia &lt;dbl&gt; |\n",
       "|---|---|---|---|---|---|\n",
       "|  5 |  60 |    219 | noevento |    279 |    4242000 |\n",
       "|  6 | 137 |   1402 | noevento |   1539 |    7882000 |\n",
       "|  8 |   5 |    250 | noevento |    255 |    -110000 |\n",
       "|  9 |   7 |    237 | noevento |    244 |      72000 |\n",
       "| 12 |  18 |    121 | noevento |    139 |    1162000 |\n",
       "| 13 |  69 |   1362 | noevento |   1431 |    2658000 |\n",
       "| 15 |  29 |    566 | noevento |    595 |    1130000 |\n",
       "| 16 |  35 |   1773 | noevento |   1808 |    -816000 |\n",
       "| 20 |   3 |      4 | noevento |      7 |     226000 |\n",
       "| 21 | 173 |   5278 | noevento |   5451 |    2938000 |\n",
       "| 23 |   6 |    301 | noevento |    307 |    -134000 |\n",
       "| 24 |  32 |   5179 | noevento |   5211 |   -7862000 |\n",
       "| 27 |   5 |     22 | noevento |     27 |     346000 |\n",
       "| 28 |  39 |   4573 | noevento |   4612 |   -6104000 |\n",
       "| 30 |  95 |  13673 | noevento |  13768 |  -19936000 |\n",
       "| 31 | 137 | 125532 | noevento | 125669 | -240378000 |\n",
       "\n"
      ],
      "text/plain": [
       "   leaf evento noevento y        TOTAL  ganancia  \n",
       "1   5    60       219   noevento    279    4242000\n",
       "2   6   137      1402   noevento   1539    7882000\n",
       "3   8     5       250   noevento    255    -110000\n",
       "4   9     7       237   noevento    244      72000\n",
       "5  12    18       121   noevento    139    1162000\n",
       "6  13    69      1362   noevento   1431    2658000\n",
       "7  15    29       566   noevento    595    1130000\n",
       "8  16    35      1773   noevento   1808    -816000\n",
       "9  20     3         4   noevento      7     226000\n",
       "10 21   173      5278   noevento   5451    2938000\n",
       "11 23     6       301   noevento    307    -134000\n",
       "12 24    32      5179   noevento   5211   -7862000\n",
       "13 27     5        22   noevento     27     346000\n",
       "14 28    39      4573   noevento   4612   -6104000\n",
       "15 30    95     13673   noevento  13768  -19936000\n",
       "16 31   137    125532   noevento 125669 -240378000"
      ]
     },
     "metadata": {},
     "output_type": "display_data"
    },
    {
     "data": {
      "text/html": [
       "<table class=\"dataframe\">\n",
       "<caption>A data.table: 1 × 3</caption>\n",
       "<thead>\n",
       "\t<tr><th scope=col>ganancia</th><th scope=col>enviados</th><th scope=col>sevan</th></tr>\n",
       "\t<tr><th scope=col>&lt;dbl&gt;</th><th scope=col>&lt;int&gt;</th><th scope=col>&lt;int&gt;</th></tr>\n",
       "</thead>\n",
       "<tbody>\n",
       "\t<tr><td>20656000</td><td>9712</td><td>501</td></tr>\n",
       "</tbody>\n",
       "</table>\n"
      ],
      "text/latex": [
       "A data.table: 1 × 3\n",
       "\\begin{tabular}{lll}\n",
       " ganancia & enviados & sevan\\\\\n",
       " <dbl> & <int> & <int>\\\\\n",
       "\\hline\n",
       "\t 20656000 & 9712 & 501\\\\\n",
       "\\end{tabular}\n"
      ],
      "text/markdown": [
       "\n",
       "A data.table: 1 × 3\n",
       "\n",
       "| ganancia &lt;dbl&gt; | enviados &lt;int&gt; | sevan &lt;int&gt; |\n",
       "|---|---|---|\n",
       "| 20656000 | 9712 | 501 |\n",
       "\n"
      ],
      "text/plain": [
       "  ganancia enviados sevan\n",
       "1 20656000 9712     501  "
      ]
     },
     "metadata": {},
     "output_type": "display_data"
    }
   ],
   "source": [
    "## ---------------------------\n",
    "## Step 5: Binarizando la salida (en tu cara RAE)\n",
    "## ---------------------------\n",
    "\n",
    "# Creamos un nuevo target binario\n",
    "dtrain[, clase_binaria := ifelse(\n",
    "                            clase_ternaria == \"BAJA+2\",\n",
    "                                \"evento\",\n",
    "                                \"noevento\"\n",
    "                            )]\n",
    "# Borramos el target viejo\n",
    "dtrain[, clase_ternaria := NULL]\n",
    "\n",
    "arbolbinario <- rpart(\"clase_binaria ~ .\",\n",
    "                 data =      dtrain,\n",
    "                 xval =      0,\n",
    "                 cp =       -0.3,\n",
    "                 minsplit =  0,\n",
    "                 minbucket = 5,\n",
    "                 maxdepth =  4)\n",
    "# Transformamos las hojas a una tabla\n",
    "hojasbinario <- tablahojas(arbolbinario, dtrain, \"clase_binaria\")\n",
    "\n",
    "# Y agregamos la ganancia de cada hoja\n",
    "hojasbinario[, ganancia := evento * 78000 - 2000 * noevento]\n",
    "View(hojasbinario)\n",
    "# Por último sumarizamos\n",
    "View(hojasbinario[ganancia > 0,\n",
    " .(ganancia = sum(ganancia), enviados = sum(TOTAL), sevan = sum(evento))])\n",
    "\n",
    "## Pregunta\n",
    "## - ¿Considera que la agrupación de clases fue positiva para la  ganancia?"
   ]
  },
  {
   "cell_type": "code",
   "execution_count": 16,
   "id": "2bc9edb0-ac63-40b4-b95c-138d7c6a2e2b",
   "metadata": {},
   "outputs": [
    {
     "data": {
      "text/html": [
       "<table class=\"dataframe\">\n",
       "<caption>A data.table: 16 × 8</caption>\n",
       "<thead>\n",
       "\t<tr><th scope=col>leaf</th><th scope=col>evento</th><th scope=col>noevento</th><th scope=col>y</th><th scope=col>TOTAL</th><th scope=col>ganancia</th><th scope=col>p_evento</th><th scope=col>gan_acum</th></tr>\n",
       "\t<tr><th scope=col>&lt;int&gt;</th><th scope=col>&lt;int&gt;</th><th scope=col>&lt;int&gt;</th><th scope=col>&lt;chr&gt;</th><th scope=col>&lt;int&gt;</th><th scope=col>&lt;dbl&gt;</th><th scope=col>&lt;dbl&gt;</th><th scope=col>&lt;dbl&gt;</th></tr>\n",
       "</thead>\n",
       "<tbody>\n",
       "\t<tr><td>20</td><td>  3</td><td>     4</td><td>noevento</td><td>     7</td><td>    226000</td><td>0.428571429</td><td>    226000</td></tr>\n",
       "\t<tr><td> 5</td><td> 60</td><td>   219</td><td>noevento</td><td>   279</td><td>   4242000</td><td>0.215053763</td><td>   4468000</td></tr>\n",
       "\t<tr><td>27</td><td>  5</td><td>    22</td><td>noevento</td><td>    27</td><td>    346000</td><td>0.185185185</td><td>   4814000</td></tr>\n",
       "\t<tr><td>12</td><td> 18</td><td>   121</td><td>noevento</td><td>   139</td><td>   1162000</td><td>0.129496403</td><td>   5976000</td></tr>\n",
       "\t<tr><td> 6</td><td>137</td><td>  1402</td><td>noevento</td><td>  1539</td><td>   7882000</td><td>0.089018843</td><td>  13858000</td></tr>\n",
       "\t<tr><td>15</td><td> 29</td><td>   566</td><td>noevento</td><td>   595</td><td>   1130000</td><td>0.048739496</td><td>  14988000</td></tr>\n",
       "\t<tr><td>13</td><td> 69</td><td>  1362</td><td>noevento</td><td>  1431</td><td>   2658000</td><td>0.048218029</td><td>  17646000</td></tr>\n",
       "\t<tr><td>21</td><td>173</td><td>  5278</td><td>noevento</td><td>  5451</td><td>   2938000</td><td>0.031737296</td><td>  20584000</td></tr>\n",
       "\t<tr><td> 9</td><td>  7</td><td>   237</td><td>noevento</td><td>   244</td><td>     72000</td><td>0.028688525</td><td>  20656000</td></tr>\n",
       "\t<tr><td> 8</td><td>  5</td><td>   250</td><td>noevento</td><td>   255</td><td>   -110000</td><td>0.019607843</td><td>  20546000</td></tr>\n",
       "\t<tr><td>23</td><td>  6</td><td>   301</td><td>noevento</td><td>   307</td><td>   -134000</td><td>0.019543974</td><td>  20412000</td></tr>\n",
       "\t<tr><td>16</td><td> 35</td><td>  1773</td><td>noevento</td><td>  1808</td><td>   -816000</td><td>0.019358407</td><td>  19596000</td></tr>\n",
       "\t<tr><td>28</td><td> 39</td><td>  4573</td><td>noevento</td><td>  4612</td><td>  -6104000</td><td>0.008456201</td><td>  13492000</td></tr>\n",
       "\t<tr><td>30</td><td> 95</td><td> 13673</td><td>noevento</td><td> 13768</td><td> -19936000</td><td>0.006900058</td><td>  -6444000</td></tr>\n",
       "\t<tr><td>24</td><td> 32</td><td>  5179</td><td>noevento</td><td>  5211</td><td>  -7862000</td><td>0.006140856</td><td> -14306000</td></tr>\n",
       "\t<tr><td>31</td><td>137</td><td>125532</td><td>noevento</td><td>125669</td><td>-240378000</td><td>0.001090165</td><td>-254684000</td></tr>\n",
       "</tbody>\n",
       "</table>\n"
      ],
      "text/latex": [
       "A data.table: 16 × 8\n",
       "\\begin{tabular}{llllllll}\n",
       " leaf & evento & noevento & y & TOTAL & ganancia & p\\_evento & gan\\_acum\\\\\n",
       " <int> & <int> & <int> & <chr> & <int> & <dbl> & <dbl> & <dbl>\\\\\n",
       "\\hline\n",
       "\t 20 &   3 &      4 & noevento &      7 &     226000 & 0.428571429 &     226000\\\\\n",
       "\t  5 &  60 &    219 & noevento &    279 &    4242000 & 0.215053763 &    4468000\\\\\n",
       "\t 27 &   5 &     22 & noevento &     27 &     346000 & 0.185185185 &    4814000\\\\\n",
       "\t 12 &  18 &    121 & noevento &    139 &    1162000 & 0.129496403 &    5976000\\\\\n",
       "\t  6 & 137 &   1402 & noevento &   1539 &    7882000 & 0.089018843 &   13858000\\\\\n",
       "\t 15 &  29 &    566 & noevento &    595 &    1130000 & 0.048739496 &   14988000\\\\\n",
       "\t 13 &  69 &   1362 & noevento &   1431 &    2658000 & 0.048218029 &   17646000\\\\\n",
       "\t 21 & 173 &   5278 & noevento &   5451 &    2938000 & 0.031737296 &   20584000\\\\\n",
       "\t  9 &   7 &    237 & noevento &    244 &      72000 & 0.028688525 &   20656000\\\\\n",
       "\t  8 &   5 &    250 & noevento &    255 &    -110000 & 0.019607843 &   20546000\\\\\n",
       "\t 23 &   6 &    301 & noevento &    307 &    -134000 & 0.019543974 &   20412000\\\\\n",
       "\t 16 &  35 &   1773 & noevento &   1808 &    -816000 & 0.019358407 &   19596000\\\\\n",
       "\t 28 &  39 &   4573 & noevento &   4612 &   -6104000 & 0.008456201 &   13492000\\\\\n",
       "\t 30 &  95 &  13673 & noevento &  13768 &  -19936000 & 0.006900058 &   -6444000\\\\\n",
       "\t 24 &  32 &   5179 & noevento &   5211 &   -7862000 & 0.006140856 &  -14306000\\\\\n",
       "\t 31 & 137 & 125532 & noevento & 125669 & -240378000 & 0.001090165 & -254684000\\\\\n",
       "\\end{tabular}\n"
      ],
      "text/markdown": [
       "\n",
       "A data.table: 16 × 8\n",
       "\n",
       "| leaf &lt;int&gt; | evento &lt;int&gt; | noevento &lt;int&gt; | y &lt;chr&gt; | TOTAL &lt;int&gt; | ganancia &lt;dbl&gt; | p_evento &lt;dbl&gt; | gan_acum &lt;dbl&gt; |\n",
       "|---|---|---|---|---|---|---|---|\n",
       "| 20 |   3 |      4 | noevento |      7 |     226000 | 0.428571429 |     226000 |\n",
       "|  5 |  60 |    219 | noevento |    279 |    4242000 | 0.215053763 |    4468000 |\n",
       "| 27 |   5 |     22 | noevento |     27 |     346000 | 0.185185185 |    4814000 |\n",
       "| 12 |  18 |    121 | noevento |    139 |    1162000 | 0.129496403 |    5976000 |\n",
       "|  6 | 137 |   1402 | noevento |   1539 |    7882000 | 0.089018843 |   13858000 |\n",
       "| 15 |  29 |    566 | noevento |    595 |    1130000 | 0.048739496 |   14988000 |\n",
       "| 13 |  69 |   1362 | noevento |   1431 |    2658000 | 0.048218029 |   17646000 |\n",
       "| 21 | 173 |   5278 | noevento |   5451 |    2938000 | 0.031737296 |   20584000 |\n",
       "|  9 |   7 |    237 | noevento |    244 |      72000 | 0.028688525 |   20656000 |\n",
       "|  8 |   5 |    250 | noevento |    255 |    -110000 | 0.019607843 |   20546000 |\n",
       "| 23 |   6 |    301 | noevento |    307 |    -134000 | 0.019543974 |   20412000 |\n",
       "| 16 |  35 |   1773 | noevento |   1808 |    -816000 | 0.019358407 |   19596000 |\n",
       "| 28 |  39 |   4573 | noevento |   4612 |   -6104000 | 0.008456201 |   13492000 |\n",
       "| 30 |  95 |  13673 | noevento |  13768 |  -19936000 | 0.006900058 |   -6444000 |\n",
       "| 24 |  32 |   5179 | noevento |   5211 |   -7862000 | 0.006140856 |  -14306000 |\n",
       "| 31 | 137 | 125532 | noevento | 125669 | -240378000 | 0.001090165 | -254684000 |\n",
       "\n"
      ],
      "text/plain": [
       "   leaf evento noevento y        TOTAL  ganancia   p_evento    gan_acum  \n",
       "1  20     3         4   noevento      7     226000 0.428571429     226000\n",
       "2   5    60       219   noevento    279    4242000 0.215053763    4468000\n",
       "3  27     5        22   noevento     27     346000 0.185185185    4814000\n",
       "4  12    18       121   noevento    139    1162000 0.129496403    5976000\n",
       "5   6   137      1402   noevento   1539    7882000 0.089018843   13858000\n",
       "6  15    29       566   noevento    595    1130000 0.048739496   14988000\n",
       "7  13    69      1362   noevento   1431    2658000 0.048218029   17646000\n",
       "8  21   173      5278   noevento   5451    2938000 0.031737296   20584000\n",
       "9   9     7       237   noevento    244      72000 0.028688525   20656000\n",
       "10  8     5       250   noevento    255    -110000 0.019607843   20546000\n",
       "11 23     6       301   noevento    307    -134000 0.019543974   20412000\n",
       "12 16    35      1773   noevento   1808    -816000 0.019358407   19596000\n",
       "13 28    39      4573   noevento   4612   -6104000 0.008456201   13492000\n",
       "14 30    95     13673   noevento  13768  -19936000 0.006900058   -6444000\n",
       "15 24    32      5179   noevento   5211   -7862000 0.006140856  -14306000\n",
       "16 31   137    125532   noevento 125669 -240378000 0.001090165 -254684000"
      ]
     },
     "metadata": {},
     "output_type": "display_data"
    }
   ],
   "source": [
    "## ---------------------------\n",
    "## Step 6: Salida probabilísticas\n",
    "## ---------------------------\n",
    "\n",
    "# Calculamos la probabilidad de evento en cada hoja\n",
    "hojasbinario[, p_evento := evento / (evento + noevento)]\n",
    "\n",
    "# Ordenamos de forma descendiente las probabilidades, ya que nos interesan\n",
    "# ante todo las probabilidades más altas\n",
    "hojasordenadas <- hojasbinario[order(-p_evento),]\n",
    "\n",
    "# Calculamos la ganancia acumulada, desde con la probabilidad desde la primera\n",
    "# fila con probabilidad más alta hasta la fila N, para cada fila.\n",
    "hojasordenadas[, gan_acum := cumsum(ganancia)]\n",
    "\n",
    "View(hojasordenadas)\n",
    "\n",
    "# TAREAS:\n",
    "# - Calculé la probabilidad de NO evento\n",
    "# - Puede pasar que dos hojas tengan la misma probabilidad, escriba una query\n",
    "#   que las agrupe.\n",
    "\n",
    "## Preguntas\n",
    "## - ¿Cómo ve la relación entre la probabilidad ordenada y la hojas con\n",
    "##   ganancia?\n",
    "## - ¿Cuál es la máxima ganancia posible es nuestro árbol?\n",
    "## - ¿Cuál es el `punto de corte` que sugiere?\n",
    "## - ¿Por qué es distinto al teórico?\n",
    "## - ¿Es nuestro `punto de corte` es igual de útil?"
   ]
  },
  {
   "cell_type": "code",
   "execution_count": 20,
   "id": "2f24973a-1586-458c-9412-5dcc09818fb5",
   "metadata": {},
   "outputs": [
    {
     "data": {
      "image/png": "[encoded data removed]",
      "text/plain": [
       "plot without title"
      ]
     },
     "metadata": {
      "image/png": {
       "height": 420,
       "width": 420
      }
     },
     "output_type": "display_data"
    }
   ],
   "source": [
    "## ---------------------------\n",
    "## Step 7: Graficando la ganancia\n",
    "## ---------------------------\n",
    "\n",
    "ggplot(hojasordenadas, aes(x = p_evento ,y = gan_acum)) +\n",
    "     scale_x_reverse() +\n",
    "     geom_line(size = 1)\n",
    "\n",
    "## Pregunta\n",
    "## ¿Cómo interpretamos este gráfico?"
   ]
  },
  {
   "cell_type": "code",
   "execution_count": 21,
   "id": "13221a28-b929-41ae-89ad-475c11f64bcb",
   "metadata": {},
   "outputs": [
    {
     "data": {
      "text/html": [
       "<table class=\"dataframe\">\n",
       "<caption>A data.table: 16 × 7</caption>\n",
       "<thead>\n",
       "\t<tr><th scope=col>p_evento</th><th scope=col>evento</th><th scope=col>noevento</th><th scope=col>tp</th><th scope=col>tn</th><th scope=col>fp</th><th scope=col>fn</th></tr>\n",
       "\t<tr><th scope=col>&lt;dbl&gt;</th><th scope=col>&lt;int&gt;</th><th scope=col>&lt;int&gt;</th><th scope=col>&lt;int&gt;</th><th scope=col>&lt;int&gt;</th><th scope=col>&lt;int&gt;</th><th scope=col>&lt;int&gt;</th></tr>\n",
       "</thead>\n",
       "<tbody>\n",
       "\t<tr><td>0.428571429</td><td>  3</td><td>     4</td><td>  3</td><td>160488</td><td>     4</td><td>847</td></tr>\n",
       "\t<tr><td>0.215053763</td><td> 60</td><td>   219</td><td> 63</td><td>160269</td><td>   223</td><td>787</td></tr>\n",
       "\t<tr><td>0.185185185</td><td>  5</td><td>    22</td><td> 68</td><td>160247</td><td>   245</td><td>782</td></tr>\n",
       "\t<tr><td>0.129496403</td><td> 18</td><td>   121</td><td> 86</td><td>160126</td><td>   366</td><td>764</td></tr>\n",
       "\t<tr><td>0.089018843</td><td>137</td><td>  1402</td><td>223</td><td>158724</td><td>  1768</td><td>627</td></tr>\n",
       "\t<tr><td>0.048739496</td><td> 29</td><td>   566</td><td>252</td><td>158158</td><td>  2334</td><td>598</td></tr>\n",
       "\t<tr><td>0.048218029</td><td> 69</td><td>  1362</td><td>321</td><td>156796</td><td>  3696</td><td>529</td></tr>\n",
       "\t<tr><td>0.031737296</td><td>173</td><td>  5278</td><td>494</td><td>151518</td><td>  8974</td><td>356</td></tr>\n",
       "\t<tr><td>0.028688525</td><td>  7</td><td>   237</td><td>501</td><td>151281</td><td>  9211</td><td>349</td></tr>\n",
       "\t<tr><td>0.019607843</td><td>  5</td><td>   250</td><td>506</td><td>151031</td><td>  9461</td><td>344</td></tr>\n",
       "\t<tr><td>0.019543974</td><td>  6</td><td>   301</td><td>512</td><td>150730</td><td>  9762</td><td>338</td></tr>\n",
       "\t<tr><td>0.019358407</td><td> 35</td><td>  1773</td><td>547</td><td>148957</td><td> 11535</td><td>303</td></tr>\n",
       "\t<tr><td>0.008456201</td><td> 39</td><td>  4573</td><td>586</td><td>144384</td><td> 16108</td><td>264</td></tr>\n",
       "\t<tr><td>0.006900058</td><td> 95</td><td> 13673</td><td>681</td><td>130711</td><td> 29781</td><td>169</td></tr>\n",
       "\t<tr><td>0.006140856</td><td> 32</td><td>  5179</td><td>713</td><td>125532</td><td> 34960</td><td>137</td></tr>\n",
       "\t<tr><td>0.001090165</td><td>137</td><td>125532</td><td>850</td><td>     0</td><td>160492</td><td>  0</td></tr>\n",
       "</tbody>\n",
       "</table>\n"
      ],
      "text/latex": [
       "A data.table: 16 × 7\n",
       "\\begin{tabular}{lllllll}\n",
       " p\\_evento & evento & noevento & tp & tn & fp & fn\\\\\n",
       " <dbl> & <int> & <int> & <int> & <int> & <int> & <int>\\\\\n",
       "\\hline\n",
       "\t 0.428571429 &   3 &      4 &   3 & 160488 &      4 & 847\\\\\n",
       "\t 0.215053763 &  60 &    219 &  63 & 160269 &    223 & 787\\\\\n",
       "\t 0.185185185 &   5 &     22 &  68 & 160247 &    245 & 782\\\\\n",
       "\t 0.129496403 &  18 &    121 &  86 & 160126 &    366 & 764\\\\\n",
       "\t 0.089018843 & 137 &   1402 & 223 & 158724 &   1768 & 627\\\\\n",
       "\t 0.048739496 &  29 &    566 & 252 & 158158 &   2334 & 598\\\\\n",
       "\t 0.048218029 &  69 &   1362 & 321 & 156796 &   3696 & 529\\\\\n",
       "\t 0.031737296 & 173 &   5278 & 494 & 151518 &   8974 & 356\\\\\n",
       "\t 0.028688525 &   7 &    237 & 501 & 151281 &   9211 & 349\\\\\n",
       "\t 0.019607843 &   5 &    250 & 506 & 151031 &   9461 & 344\\\\\n",
       "\t 0.019543974 &   6 &    301 & 512 & 150730 &   9762 & 338\\\\\n",
       "\t 0.019358407 &  35 &   1773 & 547 & 148957 &  11535 & 303\\\\\n",
       "\t 0.008456201 &  39 &   4573 & 586 & 144384 &  16108 & 264\\\\\n",
       "\t 0.006900058 &  95 &  13673 & 681 & 130711 &  29781 & 169\\\\\n",
       "\t 0.006140856 &  32 &   5179 & 713 & 125532 &  34960 & 137\\\\\n",
       "\t 0.001090165 & 137 & 125532 & 850 &      0 & 160492 &   0\\\\\n",
       "\\end{tabular}\n"
      ],
      "text/markdown": [
       "\n",
       "A data.table: 16 × 7\n",
       "\n",
       "| p_evento &lt;dbl&gt; | evento &lt;int&gt; | noevento &lt;int&gt; | tp &lt;int&gt; | tn &lt;int&gt; | fp &lt;int&gt; | fn &lt;int&gt; |\n",
       "|---|---|---|---|---|---|---|\n",
       "| 0.428571429 |   3 |      4 |   3 | 160488 |      4 | 847 |\n",
       "| 0.215053763 |  60 |    219 |  63 | 160269 |    223 | 787 |\n",
       "| 0.185185185 |   5 |     22 |  68 | 160247 |    245 | 782 |\n",
       "| 0.129496403 |  18 |    121 |  86 | 160126 |    366 | 764 |\n",
       "| 0.089018843 | 137 |   1402 | 223 | 158724 |   1768 | 627 |\n",
       "| 0.048739496 |  29 |    566 | 252 | 158158 |   2334 | 598 |\n",
       "| 0.048218029 |  69 |   1362 | 321 | 156796 |   3696 | 529 |\n",
       "| 0.031737296 | 173 |   5278 | 494 | 151518 |   8974 | 356 |\n",
       "| 0.028688525 |   7 |    237 | 501 | 151281 |   9211 | 349 |\n",
       "| 0.019607843 |   5 |    250 | 506 | 151031 |   9461 | 344 |\n",
       "| 0.019543974 |   6 |    301 | 512 | 150730 |   9762 | 338 |\n",
       "| 0.019358407 |  35 |   1773 | 547 | 148957 |  11535 | 303 |\n",
       "| 0.008456201 |  39 |   4573 | 586 | 144384 |  16108 | 264 |\n",
       "| 0.006900058 |  95 |  13673 | 681 | 130711 |  29781 | 169 |\n",
       "| 0.006140856 |  32 |   5179 | 713 | 125532 |  34960 | 137 |\n",
       "| 0.001090165 | 137 | 125532 | 850 |      0 | 160492 |   0 |\n",
       "\n"
      ],
      "text/plain": [
       "   p_evento    evento noevento tp  tn     fp     fn \n",
       "1  0.428571429   3         4     3 160488      4 847\n",
       "2  0.215053763  60       219    63 160269    223 787\n",
       "3  0.185185185   5        22    68 160247    245 782\n",
       "4  0.129496403  18       121    86 160126    366 764\n",
       "5  0.089018843 137      1402   223 158724   1768 627\n",
       "6  0.048739496  29       566   252 158158   2334 598\n",
       "7  0.048218029  69      1362   321 156796   3696 529\n",
       "8  0.031737296 173      5278   494 151518   8974 356\n",
       "9  0.028688525   7       237   501 151281   9211 349\n",
       "10 0.019607843   5       250   506 151031   9461 344\n",
       "11 0.019543974   6       301   512 150730   9762 338\n",
       "12 0.019358407  35      1773   547 148957  11535 303\n",
       "13 0.008456201  39      4573   586 144384  16108 264\n",
       "14 0.006900058  95     13673   681 130711  29781 169\n",
       "15 0.006140856  32      5179   713 125532  34960 137\n",
       "16 0.001090165 137    125532   850      0 160492   0"
      ]
     },
     "metadata": {},
     "output_type": "display_data"
    }
   ],
   "source": [
    "## ---------------------------\n",
    "## Step 8: No todo es plata en la vida\n",
    "## ---------------------------\n",
    "\n",
    "## NOTA:\n",
    "## Existen más formas de medir la calidad del modelo a través de las\n",
    "## probabilidades que nos entrega. A nivel global podemos usar `AUC`: área bajo\n",
    "## la curva ROC:https://en.wikipedia.org/wiki/Receiver_operating_characteristic\n",
    "## que nos muestra el comportamiento global de la performance del modelo.\n",
    "##\n",
    "## Para la **curva ROC** vamos a necesitar construir una Matriz de confusión\n",
    "## https://en.wikipedia.org/wiki/Confusion_matrix#Table_of_confusion por cada\n",
    "## punto de corte posible.\n",
    "\n",
    "# Vamos a sumar las variables `tp`, `tn`, `fp` y `fn`\n",
    "hojasordenadas[, c(\"evento_acum\",\"noevento_acum\") :=\n",
    "                  list(cumsum(evento),cumsum(noevento))]\n",
    "total_evento <- hojasordenadas[, sum(evento)]\n",
    "total_noevento <- hojasordenadas[, sum(noevento)]\n",
    "hojasordenadas[, c(\"evento_restantes\", \"noevento_restantes\") :=\n",
    "            list(total_evento - evento_acum, total_noevento - noevento_acum)]\n",
    "\n",
    "hojasordenadas[, tp := evento_acum]\n",
    "hojasordenadas[, tn := noevento_restantes]\n",
    "hojasordenadas[, fp := noevento_acum]\n",
    "hojasordenadas[, fn := evento_restantes]\n",
    "\n",
    "# Para validar los cálculos anteriores vamos a visualizar solo los campos\n",
    "# importantes\n",
    "View(hojasordenadas[, .(p_evento, evento, noevento, tp, tn, fp, fn)])"
   ]
  },
  {
   "cell_type": "code",
   "execution_count": 22,
   "id": "fb465f42-785d-49e7-a357-17a231f3751b",
   "metadata": {},
   "outputs": [
    {
     "data": {
      "image/png": "[encoded data removed]",
      "text/plain": [
       "plot without title"
      ]
     },
     "metadata": {
      "image/png": {
       "height": 420,
       "width": 420
      }
     },
     "output_type": "display_data"
    }
   ],
   "source": [
    "## ---------------------------\n",
    "## Step 9: Armando nuestra curva ROC\n",
    "## ---------------------------\n",
    "\n",
    "# Calculamos las variables necesarios para la curva ROC\n",
    "hojasordenadas[, tpr := (tp / (tp + fn))]\n",
    "hojasordenadas[, fpr := (fp / (fp + tn))]\n",
    "\n",
    "# La graficamos\n",
    "ggplot(hojasordenadas, aes(x = fpr, y = tpr)) +\n",
    "  # Agregamos la función identidad\n",
    "  geom_abline(intercept = 0, slope = 1) +\n",
    "  geom_line(lwd = 1)\n",
    "\n",
    "## Pregunta\n",
    "## ¿Qué representa la curva ROC?"
   ]
  },
  {
   "cell_type": "code",
   "execution_count": 25,
   "id": "e6a76ce6-5482-424c-87b4-30ed73712bdc",
   "metadata": {},
   "outputs": [
    {
     "name": "stderr",
     "output_type": "stream",
     "text": [
      "Loading required package: geometry\n",
      "\n"
     ]
    },
    {
     "data": {
      "text/html": [
       "0.857440949961222"
      ],
      "text/latex": [
       "0.857440949961222"
      ],
      "text/markdown": [
       "0.857440949961222"
      ],
      "text/plain": [
       "[1] 0.8574409"
      ]
     },
     "metadata": {},
     "output_type": "display_data"
    }
   ],
   "source": [
    "## ---------------------------\n",
    "## Step 10: Calculando el área bajo la curva\n",
    "## ---------------------------\n",
    "\n",
    "## NOTA: Como es muy complejo reflejar en palabras una curva, se suele calcular\n",
    "## el área bajo su curva (auc) y reflejar ese valor como métrica de la\n",
    "## calidad del modelo.\n",
    "\n",
    "# Calculamos su área, necesita instalar el siguiente paquete\n",
    "# install.packages(\"geometry\")\n",
    "require(\"geometry\")\n",
    "\n",
    "x <- c(hojasordenadas$fpr,1)\n",
    "y <- c(hojasordenadas$tpr, 0)\n",
    "# El valor de la auc\n",
    "View(polyarea(x, y))\n",
    "\n",
    "\n",
    "## Preguntas\n",
    "## -¿AUC es una métrica global o local?\n",
    "## -¿Pueden dos curvas distintas tener un mismo valor de AUC?"
   ]
  },
  {
   "cell_type": "code",
   "execution_count": 28,
   "id": "efeb7eb3-5e9a-4a5d-8af7-d5d5e6361228",
   "metadata": {},
   "outputs": [
    {
     "data": {
      "image/png": "[encoded data removed]",
      "text/plain": [
       "plot without title"
      ]
     },
     "metadata": {
      "image/png": {
       "height": 420,
       "width": 420
      }
     },
     "output_type": "display_data"
    }
   ],
   "source": [
    "## ---------------------------\n",
    "## Step 11: No limitarnos a la ROC\n",
    "## ---------------------------\n",
    "\n",
    "# Podemos construir una curva para el accuraccy\n",
    "hojasordenadas[, acc := ((tp + tn) / (tp + tn + fp + fn))]\n",
    "\n",
    "# Y graficarla\n",
    "ggplot(hojasordenadas, aes(x = p_evento, y = acc)) +\n",
    "  geom_line(lwd = 1)\n",
    "\n",
    "## Preguntas\n",
    "## - ¿Se ajusta esta curva a nuestra necesidad de negocio?\n",
    "## -¿Cuál es el threshold optimo según la curva de accuracy?\n",
    "## - Si hubiéramos elegido nuestro modelo usando el accuracy, ¿Cuanta plata\n",
    "##   hubiera ganado o perdido la empresa?\n",
    "## - ¿Es necesario que la salida del modelo sea un probabilidad para aplicar\n",
    "##   estos conceptos?\n",
    "\n",
    "## TAREA:\n",
    "## - Construya la curva correspondiente al F1 Score.\n",
    "## - La métrica F1, es criticado por dar un mismo peso a recall y al precision.\n",
    "##   Por esto mismo, a alguien se le ocurrió el F-Beta. Construya esta última\n",
    "##   para varios Betas.\n",
    "## - ¿Hay algún Beta que tenga un **punto de corte** similar al nuestro?"
   ]
  },
  {
   "cell_type": "code",
   "execution_count": null,
   "id": "d148022e-91b8-44b4-99dc-26ebb7bb5c1e",
   "metadata": {},
   "outputs": [],
   "source": [
    "#TAREA\n",
    "\n",
    "## CONSTRUCCIÓN DEL F1 B SCORE\n",
    "\n"
   ]
  },
  {
   "cell_type": "code",
   "execution_count": 31,
   "id": "e72b4516-585c-4f70-993d-8e84ca40c905",
   "metadata": {},
   "outputs": [
    {
     "data": {
      "text/html": [
       "<table class=\"dataframe\">\n",
       "<caption>A matrix: 2 × 6 of type dbl</caption>\n",
       "<thead>\n",
       "\t<tr><th></th><th scope=col>used</th><th scope=col>(Mb)</th><th scope=col>gc trigger</th><th scope=col>(Mb)</th><th scope=col>max used</th><th scope=col>(Mb)</th></tr>\n",
       "</thead>\n",
       "<tbody>\n",
       "\t<tr><th scope=row>Ncells</th><td> 964480</td><td>51.6</td><td>  2108187</td><td>112.6</td><td>  2108187</td><td> 112.6</td></tr>\n",
       "\t<tr><th scope=row>Vcells</th><td>1932595</td><td>14.8</td><td>117634752</td><td>897.5</td><td>173749286</td><td>1325.7</td></tr>\n",
       "</tbody>\n",
       "</table>\n"
      ],
      "text/latex": [
       "A matrix: 2 × 6 of type dbl\n",
       "\\begin{tabular}{r|llllll}\n",
       "  & used & (Mb) & gc trigger & (Mb) & max used & (Mb)\\\\\n",
       "\\hline\n",
       "\tNcells &  964480 & 51.6 &   2108187 & 112.6 &   2108187 &  112.6\\\\\n",
       "\tVcells & 1932595 & 14.8 & 117634752 & 897.5 & 173749286 & 1325.7\\\\\n",
       "\\end{tabular}\n"
      ],
      "text/markdown": [
       "\n",
       "A matrix: 2 × 6 of type dbl\n",
       "\n",
       "| <!--/--> | used | (Mb) | gc trigger | (Mb) | max used | (Mb) |\n",
       "|---|---|---|---|---|---|---|\n",
       "| Ncells |  964480 | 51.6 |   2108187 | 112.6 |   2108187 |  112.6 |\n",
       "| Vcells | 1932595 | 14.8 | 117634752 | 897.5 | 173749286 | 1325.7 |\n",
       "\n"
      ],
      "text/plain": [
       "       used    (Mb) gc trigger (Mb)  max used  (Mb)  \n",
       "Ncells  964480 51.6   2108187  112.6   2108187  112.6\n",
       "Vcells 1932595 14.8 117634752  897.5 173749286 1325.7"
      ]
     },
     "metadata": {},
     "output_type": "display_data"
    },
    {
     "name": "stderr",
     "output_type": "stream",
     "text": [
      "Loading required package: ROCR\n",
      "\n"
     ]
    }
   ],
   "source": [
    "##\n",
    "## Sobre el Azar\n",
    "##\n",
    "## ---------------------------\n",
    "## Step 1: El simple y viejo Train / Test\n",
    "## ---------------------------\n",
    "##\n",
    "## If you torture the data long enough, it will confess.\n",
    "## --- Ronald Coase\n",
    "##\n",
    "\n",
    "# Limpiamos el entorno\n",
    "rm(list = ls())\n",
    "gc(verbose = FALSE)\n",
    "\n",
    "# Librerías necesarias\n",
    "require(\"data.table\")\n",
    "require(\"rpart\")\n",
    "require(\"ROCR\")\n",
    "require(\"ggplot2\")\n",
    "\n",
    "\n",
    "# Poner la carpeta de la materia de SU computadora local\n",
    "setwd(\"C:/YAGO/Maestría Ciencias de Datos/07-DMEYF/\")\n",
    "# Poner sus semillas\n",
    "semillas <- c(444457,444583,444697,444743,444817)\n",
    "\n",
    "# Cargamos el dataset\n",
    "dataset <- fread(\"./datasets/competencia1_2022.csv\")\n",
    "\n",
    "# Nos quedamos solo con el 202101\n",
    "dataset <- dataset[foto_mes == 202101]\n",
    "# Creamos una clase binaria\n",
    "dataset[, clase_binaria := ifelse(\n",
    "                            clase_ternaria == \"BAJA+2\",\n",
    "                                \"evento\",\n",
    "                                \"noevento\"\n",
    "                            )]\n",
    "# Borramos el target viejo\n",
    "dataset[, clase_ternaria := NULL]\n",
    "\n",
    "# Seteamos nuestra primera semilla\n",
    "set.seed(semillas[1])\n",
    "\n",
    "# Particionamos de forma estratificada\n",
    "in_training <- caret::createDataPartition(dataset$clase_binaria,\n",
    "                     p = 0.70, list = FALSE)\n",
    "dtrain  <-  dataset[in_training, ]\n",
    "dtest   <-  dataset[-in_training, ]\n",
    "\n",
    "## Preguntas\n",
    "## - ¿Por qué separamos en train/test?\n",
    "## - Son números aleatorios los que nos dan las computadoras\n",
    "## - ¿Por qué usamos semillas?\n",
    "## - ¿Qué es una partición estratificada?\n",
    "\n",
    "## TAREA:\n",
    "## - Comparar la distribución del target de una partición estratificada en\n",
    "##   nuestro dataset con una que no la sea.\n",
    "## - ¿Tiene realemente alguna ventaja la partición estratificada ?"
   ]
  },
  {
   "cell_type": "code",
   "execution_count": 34,
   "id": "e31d9bea-7a54-413f-83d8-262380d94a20",
   "metadata": {},
   "outputs": [
    {
     "name": "stdout",
     "output_type": "stream",
     "text": [
      "Time difference of 3.826505 secs\n",
      "[1] 16400000\n"
     ]
    }
   ],
   "source": [
    "## ---------------------------\n",
    "## Step 2: Armando el primer modelo particionado\n",
    "## ---------------------------\n",
    "\n",
    "# Medimos cuanto tarda nuestro modelo en ajustar\n",
    "start_time <- Sys.time()\n",
    "modelo <- rpart(clase_binaria ~ .,\n",
    "                data = dtrain,\n",
    "                xval = 0,\n",
    "                cp = 0,\n",
    "                minsplit = 20,\n",
    "                minbucket = 1,\n",
    "                maxdepth = 5)\n",
    "print(Sys.time() - start_time)\n",
    "\n",
    "pred_training <- predict(modelo, dtrain, type = \"prob\")\n",
    "pred_testing <- predict(modelo, dtest, type = \"prob\")\n",
    "\n",
    "\n",
    "## Preguntas:\n",
    "## - ¿Qué tan importante mirar las métricas de train?\n",
    "\n",
    "## ---------------------------\n",
    "## Step 3: Mirando la ganancia\n",
    "## ---------------------------\n",
    "\n",
    "# Armamos una función que nos calcule la ganancia, usando el punto de corte de\n",
    "# 0.025\n",
    "ganancia <- function(probabilidades, clase) {\n",
    "  return(sum(\n",
    "    (probabilidades >= 0.025) * ifelse(clase == \"evento\", 78000, -2000))\n",
    "  )\n",
    "}\n",
    "\n",
    "# La ganancia en testing NORMALIZADA\n",
    "print(ganancia(pred_testing[, \"evento\"], dtest$clase_binaria) / 0.3)\n",
    "\n",
    "## Activida:\n",
    "## Comparta en Zulip el número que le dio de ganancia y cuando error estima que\n",
    "## puede haber con el resto de sus compañeros\n",
    "## Ejemplo: 18000000, 1000000"
   ]
  },
  {
   "cell_type": "code",
   "execution_count": 38,
   "id": "8a8fd566-f427-48ea-931e-17f5bb90ab55",
   "metadata": {},
   "outputs": [
    {
     "name": "stdout",
     "output_type": "stream",
     "text": [
      "Time difference of 4.957838 mins\n"
     ]
    }
   ],
   "source": [
    "## ---------------------------\n",
    "## Step 4: Probando más muchas más semillas\n",
    "## ---------------------------\n",
    "\n",
    "# Almacenaremos los resultados en una tabla\n",
    "resultados_n_gan <- c()\n",
    "\n",
    "# Calcule en función del tiempo de ejecución anterior, cuantos árboles puede\n",
    "# hacer en 5 minutos y ponga ese número en la siguiente variable\n",
    "n <- 65\n",
    "\n",
    "set.seed(semillas[1])\n",
    "t0 <- Sys.time()\n",
    "for (i in 1:n) {\n",
    "\n",
    "    in_training <- caret::createDataPartition(dataset[, get(\"clase_binaria\")],\n",
    "                            p = 0.70, list = FALSE)\n",
    "    dtrain  <-  dataset[in_training, ]\n",
    "    dtest   <-  dataset[-in_training, ]\n",
    "\n",
    "    modelo <- rpart(clase_binaria ~ .,\n",
    "                    data = dtrain,\n",
    "                    xval = 0,\n",
    "                    cp = 0,\n",
    "                    minsplit = 20,\n",
    "                    minbucket = 1,\n",
    "                    maxdepth = 5)\n",
    "\n",
    "    pred_testing <- predict(modelo, dtest, type = \"prob\")\n",
    "\n",
    "    gan <- ganancia(pred_testing[, \"evento\"], dtest$clase_binaria) / 0.3\n",
    "\n",
    "    resultados_n_gan <- c(resultados_n_gan, gan)\n",
    "}\n",
    "print(Sys.time() - t0)\n",
    "\n",
    "## Preguntas:\n",
    "## ¿Cree que puede cambiar mucho la ganancia en **test** para dos semillas\n",
    "## distintas?"
   ]
  },
  {
   "cell_type": "code",
   "execution_count": 39,
   "id": "42c71635-acf0-453c-84aa-740dd56b7616",
   "metadata": {},
   "outputs": [
    {
     "name": "stdout",
     "output_type": "stream",
     "text": [
      "[1] 15200000\n",
      "[1] 19092000\n",
      "[1] 17146400\n"
     ]
    },
    {
     "data": {
      "image/png": "[encoded data removed]",
      "text/plain": [
       "plot without title"
      ]
     },
     "metadata": {
      "image/png": {
       "height": 420,
       "width": 420
      }
     },
     "output_type": "display_data"
    }
   ],
   "source": [
    "cantidad_arboles <- 5\n",
    "\n",
    "resultados_n_mcv <- c()\n",
    "set.seed(semillas[1])\n",
    "for (i in 1:50) {\n",
    "    resultados_n_mcv <- c(resultados_n_mcv,\n",
    "            mean(resultados_n_gan[sample(n, cantidad_arboles)]))\n",
    "}\n",
    "\n",
    "# La menor ganancia conseguida en test\n",
    "print(min(resultados_n_mcv))\n",
    "\n",
    "# La mayor ganancia\n",
    "print(max(resultados_n_mcv))\n",
    "\n",
    "# La media de la ganancia\n",
    "print(mean(resultados_n_mcv))\n",
    "\n",
    "# Veamos la dispersión de la ganancia\n",
    "ggplot() + aes(resultados_n_mcv) + geom_density()\n",
    "\n",
    "## NOTA: Esta técnica es conocida como Montecarlo Cross Validation\n",
    "##\n",
    "## Preguntas\n",
    "## - ¿Qué efecto observa cuando se toma como medición el promedio de 5 árboles?\n",
    "## - ¿Desapareció el error?\n",
    "## - ¿Si se hubieran tomado más valores que efectos esperaría?\n",
    "## - ¿Que ventaja y desventaja ve en esta técnica comparada al Cross Validation?"
   ]
  },
  {
   "cell_type": "code",
   "execution_count": null,
   "id": "9f76f62a-be6f-48ba-a3b3-71d61df27b3c",
   "metadata": {},
   "outputs": [],
   "source": []
  }
 ],
 "metadata": {
  "kernelspec": {
   "display_name": "R",
   "language": "R",
   "name": "ir"
  },
  "language_info": {
   "codemirror_mode": "r",
   "file_extension": ".r",
   "mimetype": "text/x-r-source",
   "name": "R",
   "pygments_lexer": "r",
   "version": "4.2.1"
  }
 },
 "nbformat": 4,
 "nbformat_minor": 5
}
