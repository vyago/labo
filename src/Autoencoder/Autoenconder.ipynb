{
 "cells": [
  {
   "cell_type": "code",
   "execution_count": 105,
   "id": "e77bca07-bf72-4824-a2e5-dba0a3b12676",
   "metadata": {},
   "outputs": [],
   "source": [
    "import pandas as pd\n",
    "import tensorflow as tf\n",
    "from tensorflow.keras import layers, losses\n",
    "from tensorflow.keras.models import Model\n",
    "import os \n",
    "import matplotlib.pyplot as plt\n",
    "import numpy as np"
   ]
  },
  {
   "cell_type": "markdown",
   "id": "d1a01f18-a7ba-45e3-9906-7de28d6b08c7",
   "metadata": {},
   "source": [
    "## IDEA DEL EXPERIMENTO\n",
    "+ Modelar el problema como un caso de detección de anomalias usando un autoencoder.\n",
    "+ Se entreno una red neuronal (Autoencoder) con los datos de continua. La finalidad de esta red es reconstruir la entrada de 153 features teniendo una capa de contracción de 8 neuronas. \n",
    "+ Es de esperar que el modelo reconstruya mejor la clase para la cual fue entrenada (continua) y tenga errores de reconstrucción menores que cuando se quiera usar para casos BAJA+1 BAJA+2 (casos anormales) en donde se espere que el error de reconstrucción sea mayor. \n"
   ]
  },
  {
   "cell_type": "code",
   "execution_count": 59,
   "id": "14dfa22d-3883-4b03-85bb-9a8bf202ca16",
   "metadata": {},
   "outputs": [],
   "source": [
    "os.chdir( \"C:\\\\Users\\\\vyago\\\\Desktop\\\\Maestría Ciencias de Datos\\\\07-DMEYF\" )\n",
    "\n",
    "dataset = pd.read_csv(\"./datasets/competencia2_2022.csv.gz\", low_memory=False)\n",
    "\n",
    "\n",
    "enero = dataset.loc[dataset[\"foto_mes\"]==202101]\n",
    "marzo = dataset.loc[dataset[\"foto_mes\"]==202103]\n"
   ]
  },
  {
   "cell_type": "code",
   "execution_count": 60,
   "id": "59f4e172-68df-4020-9541-2440151007f2",
   "metadata": {},
   "outputs": [],
   "source": [
    "enero=enero.fillna(0) # RELLENO CON 0 LOS NULOS, LO NECESITA LA RED\n",
    "marzo = marzo.fillna(0)"
   ]
  },
  {
   "cell_type": "code",
   "execution_count": 63,
   "id": "46c610dc-965d-4bd6-971b-323bed41fd0f",
   "metadata": {},
   "outputs": [],
   "source": [
    "marzo[\"clase_binaria\"] = marzo[\"clase_ternaria\"].apply(lambda x: 1 if x==\"CONTINUA\" else 0) #CLASE COMBINADA\n",
    "enero[\"clase_binaria\"] = enero[\"clase_ternaria\"].apply(lambda x: 1 if x==\"CONTINUA\" else 0)\n",
    "drop = [\"clase_binaria\",\"clase_ternaria\",\"foto_mes\",\"numero_de_cliente\"]\n",
    "X_train = enero[enero.columns.drop( drop)]\n",
    "y_train = enero[\"clase_binaria\"]\n",
    "X_test = marzo[marzo.columns.drop(drop)]\n",
    "y_test = marzo[\"clase_binaria\"]\n"
   ]
  },
  {
   "cell_type": "code",
   "execution_count": 64,
   "id": "d63b23f0-cc19-41bc-aeb0-b33cce36727c",
   "metadata": {},
   "outputs": [],
   "source": [
    "# ESCALADO DE FEATURES\n",
    "train_max = X_train.max()\n",
    "train_min = X_train.min()\n",
    "\n",
    "\n",
    "train_data = (X_train - train_min)/(train_max - train_min)\n",
    "test_data = (X_test - train_min)/(train_max - train_min)\n"
   ]
  },
  {
   "cell_type": "code",
   "execution_count": 65,
   "id": "730d3228-1927-409e-85cc-bdebaea1dddb",
   "metadata": {},
   "outputs": [],
   "source": [
    "train_data = tf.cast(train_data, tf.float32)\n",
    "test_data = tf.cast(test_data, tf.float32)"
   ]
  },
  {
   "cell_type": "code",
   "execution_count": 66,
   "id": "1ea60d2a-af52-4dfc-a5c9-9691bfbc0ba3",
   "metadata": {},
   "outputs": [],
   "source": [
    "train_labels = y_train.values.astype(bool)\n",
    "test_labels = y_test.values.astype(bool)\n",
    "\n",
    "normal_train_data = train_data[train_labels]\n",
    "normal_test_data = test_data[test_labels]\n",
    "\n",
    "anomalous_train_data = train_data[~train_labels]\n",
    "anomalous_test_data = test_data[~test_labels]"
   ]
  },
  {
   "cell_type": "code",
   "execution_count": 67,
   "id": "a254bd66-4abc-4a8c-a745-02508476f9a9",
   "metadata": {},
   "outputs": [
    {
     "data": {
      "text/plain": [
       "TensorShape([159828, 152])"
      ]
     },
     "execution_count": 67,
     "metadata": {},
     "output_type": "execute_result"
    }
   ],
   "source": [
    "normal_train_data.shape"
   ]
  },
  {
   "cell_type": "markdown",
   "id": "83460878-8533-437d-ae63-17af6ada6196",
   "metadata": {},
   "source": [
    "## Modelo"
   ]
  },
  {
   "cell_type": "code",
   "execution_count": 68,
   "id": "5c2b2101-f2fa-4489-8eb6-a54bcdf31111",
   "metadata": {},
   "outputs": [],
   "source": [
    "class AnomalyDetector(Model):\n",
    "  def __init__(self):\n",
    "    super(AnomalyDetector, self).__init__()\n",
    "    self.encoder = tf.keras.Sequential([\n",
    "      layers.Flatten(),\n",
    "      layers.Dense(64,activation=\"relu\"),\n",
    "      layers.Dense(32, activation=\"relu\"),\n",
    "      layers.Dense(16, activation=\"relu\"),\n",
    "      layers.Dense(8, activation=\"relu\")])\n",
    "\n",
    "    self.decoder = tf.keras.Sequential([\n",
    "      layers.Dense(16, activation=\"relu\"),\n",
    "      layers.Dense(32, activation=\"relu\"),\n",
    "      layers.Dense(64,activation=\"relu\"),\n",
    "      layers.Dense(152, activation=\"sigmoid\")])\n",
    "\n",
    "  def call(self, x):\n",
    "    encoded = self.encoder(x)\n",
    "    decoded = self.decoder(encoded)\n",
    "    return decoded\n",
    "\n",
    "autoencoder = AnomalyDetector()"
   ]
  },
  {
   "cell_type": "code",
   "execution_count": 69,
   "id": "a6da9240-8a0d-4d57-8b12-c346cafdfa33",
   "metadata": {},
   "outputs": [],
   "source": [
    "autoencoder.compile(optimizer='adam', loss='mae')"
   ]
  },
  {
   "cell_type": "code",
   "execution_count": 71,
   "id": "3f6ea028-9976-4097-8c06-b2e45c983dab",
   "metadata": {},
   "outputs": [
    {
     "name": "stdout",
     "output_type": "stream",
     "text": [
      "Epoch 1/300\n",
      "313/313 [==============================] - 1s 3ms/step - loss: 0.0131 - val_loss: 0.0131\n",
      "Epoch 2/300\n",
      "313/313 [==============================] - 1s 3ms/step - loss: 0.0129 - val_loss: 0.0129\n",
      "Epoch 3/300\n",
      "313/313 [==============================] - 1s 3ms/step - loss: 0.0128 - val_loss: 0.0128\n",
      "Epoch 4/300\n",
      "313/313 [==============================] - 1s 3ms/step - loss: 0.0126 - val_loss: 0.0125\n",
      "Epoch 5/300\n",
      "313/313 [==============================] - 1s 4ms/step - loss: 0.0123 - val_loss: 0.0123\n",
      "Epoch 6/300\n",
      "313/313 [==============================] - 1s 3ms/step - loss: 0.0122 - val_loss: 0.0122\n",
      "Epoch 7/300\n",
      "313/313 [==============================] - 1s 3ms/step - loss: 0.0121 - val_loss: 0.0122\n",
      "Epoch 8/300\n",
      "313/313 [==============================] - 1s 3ms/step - loss: 0.0121 - val_loss: 0.0121\n",
      "Epoch 9/300\n",
      "313/313 [==============================] - 1s 3ms/step - loss: 0.0121 - val_loss: 0.0121\n",
      "Epoch 10/300\n",
      "313/313 [==============================] - 1s 4ms/step - loss: 0.0120 - val_loss: 0.0121\n",
      "Epoch 11/300\n",
      "313/313 [==============================] - 1s 4ms/step - loss: 0.0120 - val_loss: 0.0121\n",
      "Epoch 12/300\n",
      "313/313 [==============================] - 1s 4ms/step - loss: 0.0120 - val_loss: 0.0121\n",
      "Epoch 13/300\n",
      "313/313 [==============================] - 1s 4ms/step - loss: 0.0120 - val_loss: 0.0121\n",
      "Epoch 14/300\n",
      "313/313 [==============================] - 1s 4ms/step - loss: 0.0120 - val_loss: 0.0121\n",
      "Epoch 15/300\n",
      "313/313 [==============================] - 1s 3ms/step - loss: 0.0120 - val_loss: 0.0122\n",
      "Epoch 16/300\n",
      "313/313 [==============================] - 1s 4ms/step - loss: 0.0120 - val_loss: 0.0122\n",
      "Epoch 17/300\n",
      "313/313 [==============================] - 1s 4ms/step - loss: 0.0120 - val_loss: 0.0121\n",
      "Epoch 18/300\n",
      "313/313 [==============================] - 1s 4ms/step - loss: 0.0120 - val_loss: 0.0120\n",
      "Epoch 19/300\n",
      "313/313 [==============================] - 1s 4ms/step - loss: 0.0120 - val_loss: 0.0120\n",
      "Epoch 20/300\n",
      "313/313 [==============================] - 1s 4ms/step - loss: 0.0119 - val_loss: 0.0120\n",
      "Epoch 21/300\n",
      "313/313 [==============================] - 1s 4ms/step - loss: 0.0119 - val_loss: 0.0120\n",
      "Epoch 22/300\n",
      "313/313 [==============================] - 1s 4ms/step - loss: 0.0119 - val_loss: 0.0120\n",
      "Epoch 23/300\n",
      "313/313 [==============================] - 1s 4ms/step - loss: 0.0119 - val_loss: 0.0120\n",
      "Epoch 24/300\n",
      "313/313 [==============================] - 1s 4ms/step - loss: 0.0119 - val_loss: 0.0119\n",
      "Epoch 25/300\n",
      "313/313 [==============================] - 1s 4ms/step - loss: 0.0119 - val_loss: 0.0119\n",
      "Epoch 26/300\n",
      "313/313 [==============================] - 2s 5ms/step - loss: 0.0119 - val_loss: 0.0119\n",
      "Epoch 27/300\n",
      "313/313 [==============================] - 2s 5ms/step - loss: 0.0119 - val_loss: 0.0119\n",
      "Epoch 28/300\n",
      "313/313 [==============================] - 3s 11ms/step - loss: 0.0119 - val_loss: 0.0120\n",
      "Epoch 29/300\n",
      "313/313 [==============================] - 4s 12ms/step - loss: 0.0119 - val_loss: 0.0120\n",
      "Epoch 30/300\n",
      "313/313 [==============================] - 3s 11ms/step - loss: 0.0118 - val_loss: 0.0120\n",
      "Epoch 31/300\n",
      "313/313 [==============================] - 4s 12ms/step - loss: 0.0119 - val_loss: 0.0119\n",
      "Epoch 32/300\n",
      "313/313 [==============================] - 3s 11ms/step - loss: 0.0118 - val_loss: 0.0119\n",
      "Epoch 33/300\n",
      "313/313 [==============================] - 3s 10ms/step - loss: 0.0118 - val_loss: 0.0120\n",
      "Epoch 34/300\n",
      "313/313 [==============================] - 4s 11ms/step - loss: 0.0118 - val_loss: 0.0119\n",
      "Epoch 35/300\n",
      "313/313 [==============================] - 4s 12ms/step - loss: 0.0118 - val_loss: 0.0119\n",
      "Epoch 36/300\n",
      "313/313 [==============================] - 3s 11ms/step - loss: 0.0119 - val_loss: 0.0119\n",
      "Epoch 37/300\n",
      "313/313 [==============================] - 3s 11ms/step - loss: 0.0118 - val_loss: 0.0119\n",
      "Epoch 38/300\n",
      "313/313 [==============================] - 4s 11ms/step - loss: 0.0118 - val_loss: 0.0119\n",
      "Epoch 39/300\n",
      "313/313 [==============================] - 3s 11ms/step - loss: 0.0118 - val_loss: 0.0119\n",
      "Epoch 40/300\n",
      "313/313 [==============================] - 3s 10ms/step - loss: 0.0118 - val_loss: 0.0120\n",
      "Epoch 41/300\n",
      "313/313 [==============================] - 4s 12ms/step - loss: 0.0118 - val_loss: 0.0119\n",
      "Epoch 42/300\n",
      "313/313 [==============================] - 4s 12ms/step - loss: 0.0118 - val_loss: 0.0119\n",
      "Epoch 43/300\n",
      "313/313 [==============================] - 4s 11ms/step - loss: 0.0118 - val_loss: 0.0119\n",
      "Epoch 44/300\n",
      "313/313 [==============================] - 3s 10ms/step - loss: 0.0118 - val_loss: 0.0119\n",
      "Epoch 45/300\n",
      "313/313 [==============================] - 3s 10ms/step - loss: 0.0118 - val_loss: 0.0119\n",
      "Epoch 46/300\n",
      "313/313 [==============================] - 3s 11ms/step - loss: 0.0118 - val_loss: 0.0118\n",
      "Epoch 47/300\n",
      "313/313 [==============================] - 3s 11ms/step - loss: 0.0118 - val_loss: 0.0119\n",
      "Epoch 48/300\n",
      "313/313 [==============================] - 3s 11ms/step - loss: 0.0118 - val_loss: 0.0119\n",
      "Epoch 49/300\n",
      "313/313 [==============================] - 3s 11ms/step - loss: 0.0118 - val_loss: 0.0119\n",
      "Epoch 50/300\n",
      "313/313 [==============================] - 3s 11ms/step - loss: 0.0118 - val_loss: 0.0119\n",
      "Epoch 51/300\n",
      "313/313 [==============================] - 3s 10ms/step - loss: 0.0118 - val_loss: 0.0119\n",
      "Epoch 52/300\n",
      "313/313 [==============================] - 3s 11ms/step - loss: 0.0118 - val_loss: 0.0118\n",
      "Epoch 53/300\n",
      "313/313 [==============================] - 3s 11ms/step - loss: 0.0118 - val_loss: 0.0119\n",
      "Epoch 54/300\n",
      "313/313 [==============================] - 3s 11ms/step - loss: 0.0118 - val_loss: 0.0118\n",
      "Epoch 55/300\n",
      "313/313 [==============================] - 3s 10ms/step - loss: 0.0118 - val_loss: 0.0118\n",
      "Epoch 56/300\n",
      "313/313 [==============================] - 4s 11ms/step - loss: 0.0118 - val_loss: 0.0119\n",
      "Epoch 57/300\n",
      "313/313 [==============================] - 3s 11ms/step - loss: 0.0118 - val_loss: 0.0118\n",
      "Epoch 58/300\n",
      "313/313 [==============================] - 3s 11ms/step - loss: 0.0118 - val_loss: 0.0118\n",
      "Epoch 59/300\n",
      "313/313 [==============================] - 3s 11ms/step - loss: 0.0118 - val_loss: 0.0119\n",
      "Epoch 60/300\n",
      "313/313 [==============================] - 3s 11ms/step - loss: 0.0118 - val_loss: 0.0119\n",
      "Epoch 61/300\n",
      "313/313 [==============================] - 3s 10ms/step - loss: 0.0118 - val_loss: 0.0118\n",
      "Epoch 62/300\n",
      "313/313 [==============================] - 3s 10ms/step - loss: 0.0118 - val_loss: 0.0118\n",
      "Epoch 63/300\n",
      "313/313 [==============================] - 3s 10ms/step - loss: 0.0118 - val_loss: 0.0118\n",
      "Epoch 64/300\n",
      "313/313 [==============================] - 3s 11ms/step - loss: 0.0117 - val_loss: 0.0118\n",
      "Epoch 65/300\n",
      "313/313 [==============================] - 3s 11ms/step - loss: 0.0118 - val_loss: 0.0118\n",
      "Epoch 66/300\n",
      "313/313 [==============================] - 3s 11ms/step - loss: 0.0118 - val_loss: 0.0119\n",
      "Epoch 67/300\n",
      "313/313 [==============================] - 3s 10ms/step - loss: 0.0118 - val_loss: 0.0119\n",
      "Epoch 68/300\n",
      "313/313 [==============================] - 3s 11ms/step - loss: 0.0118 - val_loss: 0.0118\n",
      "Epoch 69/300\n",
      "313/313 [==============================] - 4s 12ms/step - loss: 0.0117 - val_loss: 0.0118\n",
      "Epoch 70/300\n",
      "313/313 [==============================] - 4s 12ms/step - loss: 0.0117 - val_loss: 0.0119\n",
      "Epoch 71/300\n",
      "313/313 [==============================] - 4s 12ms/step - loss: 0.0117 - val_loss: 0.0118\n",
      "Epoch 72/300\n",
      "313/313 [==============================] - 4s 12ms/step - loss: 0.0117 - val_loss: 0.0118\n",
      "Epoch 73/300\n",
      "313/313 [==============================] - 3s 10ms/step - loss: 0.0118 - val_loss: 0.0119\n",
      "Epoch 74/300\n",
      "313/313 [==============================] - 3s 11ms/step - loss: 0.0118 - val_loss: 0.0118\n",
      "Epoch 75/300\n",
      "313/313 [==============================] - 3s 10ms/step - loss: 0.0117 - val_loss: 0.0118\n",
      "Epoch 76/300\n",
      "313/313 [==============================] - 3s 10ms/step - loss: 0.0117 - val_loss: 0.0118\n",
      "Epoch 77/300\n",
      "313/313 [==============================] - 3s 11ms/step - loss: 0.0117 - val_loss: 0.0118\n",
      "Epoch 78/300\n",
      "313/313 [==============================] - 4s 12ms/step - loss: 0.0117 - val_loss: 0.0119\n",
      "Epoch 79/300\n",
      "313/313 [==============================] - 3s 10ms/step - loss: 0.0117 - val_loss: 0.0118\n",
      "Epoch 80/300\n",
      "313/313 [==============================] - 3s 10ms/step - loss: 0.0117 - val_loss: 0.0118\n",
      "Epoch 81/300\n",
      "313/313 [==============================] - 3s 11ms/step - loss: 0.0117 - val_loss: 0.0118\n",
      "Epoch 82/300\n",
      "313/313 [==============================] - 3s 10ms/step - loss: 0.0117 - val_loss: 0.0118\n",
      "Epoch 83/300\n",
      "313/313 [==============================] - 3s 11ms/step - loss: 0.0117 - val_loss: 0.0118\n",
      "Epoch 84/300\n",
      "313/313 [==============================] - 3s 11ms/step - loss: 0.0117 - val_loss: 0.0118\n",
      "Epoch 85/300\n",
      "313/313 [==============================] - 3s 10ms/step - loss: 0.0117 - val_loss: 0.0118\n",
      "Epoch 86/300\n",
      "313/313 [==============================] - 3s 10ms/step - loss: 0.0117 - val_loss: 0.0118\n",
      "Epoch 87/300\n",
      "313/313 [==============================] - 3s 11ms/step - loss: 0.0117 - val_loss: 0.0118\n",
      "Epoch 88/300\n",
      "313/313 [==============================] - 3s 11ms/step - loss: 0.0117 - val_loss: 0.0118\n",
      "Epoch 89/300\n",
      "313/313 [==============================] - 3s 10ms/step - loss: 0.0117 - val_loss: 0.0118\n",
      "Epoch 90/300\n",
      "313/313 [==============================] - 4s 11ms/step - loss: 0.0117 - val_loss: 0.0118\n",
      "Epoch 91/300\n",
      "313/313 [==============================] - 3s 11ms/step - loss: 0.0117 - val_loss: 0.0118\n",
      "Epoch 92/300\n",
      "313/313 [==============================] - 4s 12ms/step - loss: 0.0117 - val_loss: 0.0119\n",
      "Epoch 93/300\n",
      "313/313 [==============================] - 3s 11ms/step - loss: 0.0117 - val_loss: 0.0118\n",
      "Epoch 94/300\n",
      "313/313 [==============================] - 3s 10ms/step - loss: 0.0117 - val_loss: 0.0118\n",
      "Epoch 95/300\n",
      "313/313 [==============================] - 3s 11ms/step - loss: 0.0117 - val_loss: 0.0118\n",
      "Epoch 96/300\n",
      "313/313 [==============================] - 3s 11ms/step - loss: 0.0117 - val_loss: 0.0118\n",
      "Epoch 97/300\n",
      "313/313 [==============================] - 3s 11ms/step - loss: 0.0117 - val_loss: 0.0118\n",
      "Epoch 98/300\n",
      "313/313 [==============================] - 3s 10ms/step - loss: 0.0117 - val_loss: 0.0118\n",
      "Epoch 99/300\n",
      "313/313 [==============================] - 3s 10ms/step - loss: 0.0117 - val_loss: 0.0118\n",
      "Epoch 100/300\n",
      "313/313 [==============================] - 3s 11ms/step - loss: 0.0117 - val_loss: 0.0118\n",
      "Epoch 101/300\n",
      "313/313 [==============================] - 4s 12ms/step - loss: 0.0117 - val_loss: 0.0118\n",
      "Epoch 102/300\n",
      "313/313 [==============================] - 3s 11ms/step - loss: 0.0117 - val_loss: 0.0118\n",
      "Epoch 103/300\n",
      "313/313 [==============================] - 3s 11ms/step - loss: 0.0117 - val_loss: 0.0118\n",
      "Epoch 104/300\n",
      "313/313 [==============================] - 3s 11ms/step - loss: 0.0117 - val_loss: 0.0119\n",
      "Epoch 105/300\n",
      "313/313 [==============================] - 4s 11ms/step - loss: 0.0117 - val_loss: 0.0118\n",
      "Epoch 106/300\n",
      "313/313 [==============================] - 4s 12ms/step - loss: 0.0117 - val_loss: 0.0118\n",
      "Epoch 107/300\n",
      "313/313 [==============================] - 4s 11ms/step - loss: 0.0117 - val_loss: 0.0118\n",
      "Epoch 108/300\n",
      "313/313 [==============================] - 3s 11ms/step - loss: 0.0117 - val_loss: 0.0118\n",
      "Epoch 109/300\n",
      "313/313 [==============================] - 4s 11ms/step - loss: 0.0117 - val_loss: 0.0118\n",
      "Epoch 110/300\n",
      "313/313 [==============================] - 3s 11ms/step - loss: 0.0117 - val_loss: 0.0118\n",
      "Epoch 111/300\n",
      "313/313 [==============================] - 3s 11ms/step - loss: 0.0117 - val_loss: 0.0118\n",
      "Epoch 112/300\n",
      "313/313 [==============================] - 4s 11ms/step - loss: 0.0117 - val_loss: 0.0118\n",
      "Epoch 113/300\n",
      "313/313 [==============================] - 3s 11ms/step - loss: 0.0117 - val_loss: 0.0118\n",
      "Epoch 114/300\n",
      "313/313 [==============================] - 3s 11ms/step - loss: 0.0117 - val_loss: 0.0118\n",
      "Epoch 115/300\n",
      "313/313 [==============================] - 4s 12ms/step - loss: 0.0117 - val_loss: 0.0118\n",
      "Epoch 116/300\n",
      "313/313 [==============================] - 3s 11ms/step - loss: 0.0117 - val_loss: 0.0118\n",
      "Epoch 117/300\n",
      "313/313 [==============================] - 4s 11ms/step - loss: 0.0117 - val_loss: 0.0118\n",
      "Epoch 118/300\n",
      "313/313 [==============================] - 4s 11ms/step - loss: 0.0117 - val_loss: 0.0117\n",
      "Epoch 119/300\n",
      "313/313 [==============================] - 4s 12ms/step - loss: 0.0117 - val_loss: 0.0118\n",
      "Epoch 120/300\n",
      "313/313 [==============================] - 3s 11ms/step - loss: 0.0117 - val_loss: 0.0118\n",
      "Epoch 121/300\n",
      "313/313 [==============================] - 4s 12ms/step - loss: 0.0117 - val_loss: 0.0118\n",
      "Epoch 122/300\n",
      "313/313 [==============================] - 4s 12ms/step - loss: 0.0117 - val_loss: 0.0118\n",
      "Epoch 123/300\n",
      "313/313 [==============================] - 4s 12ms/step - loss: 0.0117 - val_loss: 0.0118\n",
      "Epoch 124/300\n",
      "313/313 [==============================] - 4s 12ms/step - loss: 0.0117 - val_loss: 0.0118\n",
      "Epoch 125/300\n",
      "313/313 [==============================] - 4s 12ms/step - loss: 0.0117 - val_loss: 0.0117\n",
      "Epoch 126/300\n",
      "313/313 [==============================] - 4s 12ms/step - loss: 0.0117 - val_loss: 0.0118\n",
      "Epoch 127/300\n",
      "313/313 [==============================] - 4s 12ms/step - loss: 0.0117 - val_loss: 0.0118\n",
      "Epoch 128/300\n",
      "313/313 [==============================] - 3s 11ms/step - loss: 0.0117 - val_loss: 0.0117\n",
      "Epoch 129/300\n",
      "313/313 [==============================] - 4s 11ms/step - loss: 0.0117 - val_loss: 0.0118\n",
      "Epoch 130/300\n",
      "313/313 [==============================] - 4s 11ms/step - loss: 0.0117 - val_loss: 0.0117\n",
      "Epoch 131/300\n",
      "313/313 [==============================] - 4s 12ms/step - loss: 0.0117 - val_loss: 0.0118\n",
      "Epoch 132/300\n",
      "313/313 [==============================] - 3s 11ms/step - loss: 0.0117 - val_loss: 0.0117\n",
      "Epoch 133/300\n",
      "313/313 [==============================] - 3s 11ms/step - loss: 0.0117 - val_loss: 0.0117\n",
      "Epoch 134/300\n",
      "313/313 [==============================] - 3s 10ms/step - loss: 0.0117 - val_loss: 0.0117\n",
      "Epoch 135/300\n",
      "313/313 [==============================] - 3s 10ms/step - loss: 0.0117 - val_loss: 0.0118\n",
      "Epoch 136/300\n",
      "313/313 [==============================] - 4s 11ms/step - loss: 0.0117 - val_loss: 0.0117\n",
      "Epoch 137/300\n",
      "313/313 [==============================] - 3s 10ms/step - loss: 0.0117 - val_loss: 0.0117\n",
      "Epoch 138/300\n",
      "313/313 [==============================] - 3s 10ms/step - loss: 0.0117 - val_loss: 0.0117\n",
      "Epoch 139/300\n",
      "313/313 [==============================] - 3s 10ms/step - loss: 0.0117 - val_loss: 0.0117\n",
      "Epoch 140/300\n",
      "313/313 [==============================] - 3s 11ms/step - loss: 0.0116 - val_loss: 0.0117\n",
      "Epoch 141/300\n",
      "313/313 [==============================] - 4s 12ms/step - loss: 0.0116 - val_loss: 0.0117\n",
      "Epoch 142/300\n",
      "313/313 [==============================] - 3s 11ms/step - loss: 0.0116 - val_loss: 0.0117\n",
      "Epoch 143/300\n",
      "313/313 [==============================] - 3s 11ms/step - loss: 0.0116 - val_loss: 0.0117\n",
      "Epoch 144/300\n",
      "313/313 [==============================] - 3s 11ms/step - loss: 0.0116 - val_loss: 0.0117\n",
      "Epoch 145/300\n",
      "313/313 [==============================] - 3s 10ms/step - loss: 0.0117 - val_loss: 0.0117\n",
      "Epoch 146/300\n",
      "313/313 [==============================] - 4s 11ms/step - loss: 0.0116 - val_loss: 0.0117\n",
      "Epoch 147/300\n",
      "313/313 [==============================] - 4s 12ms/step - loss: 0.0116 - val_loss: 0.0117\n",
      "Epoch 148/300\n",
      "313/313 [==============================] - 4s 11ms/step - loss: 0.0116 - val_loss: 0.0117\n",
      "Epoch 149/300\n",
      "313/313 [==============================] - 4s 11ms/step - loss: 0.0116 - val_loss: 0.0118\n",
      "Epoch 150/300\n",
      "313/313 [==============================] - 4s 12ms/step - loss: 0.0116 - val_loss: 0.0117\n",
      "Epoch 151/300\n",
      "313/313 [==============================] - 3s 10ms/step - loss: 0.0116 - val_loss: 0.0117\n",
      "Epoch 152/300\n",
      "313/313 [==============================] - 3s 11ms/step - loss: 0.0116 - val_loss: 0.0117\n",
      "Epoch 153/300\n",
      "313/313 [==============================] - 3s 10ms/step - loss: 0.0116 - val_loss: 0.0118\n",
      "Epoch 154/300\n",
      "313/313 [==============================] - 3s 11ms/step - loss: 0.0116 - val_loss: 0.0117\n",
      "Epoch 155/300\n",
      "313/313 [==============================] - 3s 10ms/step - loss: 0.0116 - val_loss: 0.0117\n",
      "Epoch 156/300\n",
      "313/313 [==============================] - 3s 10ms/step - loss: 0.0116 - val_loss: 0.0116\n",
      "Epoch 157/300\n",
      "313/313 [==============================] - 3s 11ms/step - loss: 0.0116 - val_loss: 0.0117\n",
      "Epoch 158/300\n",
      "313/313 [==============================] - 4s 11ms/step - loss: 0.0116 - val_loss: 0.0116\n",
      "Epoch 159/300\n",
      "313/313 [==============================] - 4s 12ms/step - loss: 0.0116 - val_loss: 0.0116\n",
      "Epoch 160/300\n",
      "313/313 [==============================] - 4s 11ms/step - loss: 0.0116 - val_loss: 0.0116\n",
      "Epoch 161/300\n",
      "313/313 [==============================] - 3s 11ms/step - loss: 0.0116 - val_loss: 0.0117\n",
      "Epoch 162/300\n",
      "313/313 [==============================] - 3s 11ms/step - loss: 0.0116 - val_loss: 0.0116\n",
      "Epoch 163/300\n",
      "313/313 [==============================] - 4s 12ms/step - loss: 0.0116 - val_loss: 0.0117\n",
      "Epoch 164/300\n",
      "313/313 [==============================] - 3s 11ms/step - loss: 0.0116 - val_loss: 0.0116\n",
      "Epoch 165/300\n",
      "313/313 [==============================] - 3s 11ms/step - loss: 0.0116 - val_loss: 0.0116\n",
      "Epoch 166/300\n",
      "313/313 [==============================] - 3s 11ms/step - loss: 0.0115 - val_loss: 0.0116\n",
      "Epoch 167/300\n",
      "313/313 [==============================] - 4s 11ms/step - loss: 0.0115 - val_loss: 0.0116\n",
      "Epoch 168/300\n",
      "313/313 [==============================] - 3s 11ms/step - loss: 0.0115 - val_loss: 0.0116\n",
      "Epoch 169/300\n",
      "313/313 [==============================] - 3s 11ms/step - loss: 0.0115 - val_loss: 0.0116\n",
      "Epoch 170/300\n",
      "313/313 [==============================] - 4s 11ms/step - loss: 0.0115 - val_loss: 0.0116\n",
      "Epoch 171/300\n",
      "313/313 [==============================] - 4s 11ms/step - loss: 0.0115 - val_loss: 0.0115\n",
      "Epoch 172/300\n",
      "313/313 [==============================] - 4s 12ms/step - loss: 0.0115 - val_loss: 0.0115\n",
      "Epoch 173/300\n",
      "313/313 [==============================] - 4s 11ms/step - loss: 0.0115 - val_loss: 0.0116\n",
      "Epoch 174/300\n",
      "313/313 [==============================] - 4s 12ms/step - loss: 0.0115 - val_loss: 0.0115\n",
      "Epoch 175/300\n",
      "313/313 [==============================] - 4s 12ms/step - loss: 0.0115 - val_loss: 0.0115\n",
      "Epoch 176/300\n",
      "313/313 [==============================] - 4s 12ms/step - loss: 0.0114 - val_loss: 0.0115\n",
      "Epoch 177/300\n",
      "313/313 [==============================] - 3s 11ms/step - loss: 0.0114 - val_loss: 0.0115\n",
      "Epoch 178/300\n",
      "313/313 [==============================] - 4s 12ms/step - loss: 0.0114 - val_loss: 0.0115\n",
      "Epoch 179/300\n",
      "313/313 [==============================] - 4s 13ms/step - loss: 0.0114 - val_loss: 0.0115\n",
      "Epoch 180/300\n",
      "313/313 [==============================] - 4s 11ms/step - loss: 0.0114 - val_loss: 0.0115\n",
      "Epoch 181/300\n",
      "313/313 [==============================] - 4s 11ms/step - loss: 0.0114 - val_loss: 0.0115\n",
      "Epoch 182/300\n",
      "313/313 [==============================] - 3s 11ms/step - loss: 0.0114 - val_loss: 0.0114\n",
      "Epoch 183/300\n",
      "313/313 [==============================] - 3s 11ms/step - loss: 0.0114 - val_loss: 0.0115\n",
      "Epoch 184/300\n",
      "313/313 [==============================] - 3s 11ms/step - loss: 0.0114 - val_loss: 0.0115\n",
      "Epoch 185/300\n",
      "313/313 [==============================] - 3s 10ms/step - loss: 0.0114 - val_loss: 0.0115\n",
      "Epoch 186/300\n",
      "313/313 [==============================] - 3s 11ms/step - loss: 0.0114 - val_loss: 0.0114\n",
      "Epoch 187/300\n",
      "313/313 [==============================] - 3s 11ms/step - loss: 0.0114 - val_loss: 0.0114\n",
      "Epoch 188/300\n",
      "313/313 [==============================] - 3s 11ms/step - loss: 0.0114 - val_loss: 0.0115\n",
      "Epoch 189/300\n",
      "313/313 [==============================] - 3s 10ms/step - loss: 0.0114 - val_loss: 0.0114\n",
      "Epoch 190/300\n",
      "313/313 [==============================] - 3s 11ms/step - loss: 0.0114 - val_loss: 0.0114\n",
      "Epoch 191/300\n",
      "313/313 [==============================] - 3s 11ms/step - loss: 0.0114 - val_loss: 0.0114\n",
      "Epoch 192/300\n",
      "313/313 [==============================] - 3s 11ms/step - loss: 0.0114 - val_loss: 0.0114\n",
      "Epoch 193/300\n",
      "313/313 [==============================] - 3s 11ms/step - loss: 0.0113 - val_loss: 0.0114\n",
      "Epoch 194/300\n",
      "313/313 [==============================] - 4s 12ms/step - loss: 0.0113 - val_loss: 0.0114\n",
      "Epoch 195/300\n",
      "313/313 [==============================] - 4s 12ms/step - loss: 0.0113 - val_loss: 0.0114\n",
      "Epoch 196/300\n",
      "313/313 [==============================] - 4s 12ms/step - loss: 0.0113 - val_loss: 0.0114\n",
      "Epoch 197/300\n",
      "313/313 [==============================] - 3s 10ms/step - loss: 0.0113 - val_loss: 0.0114\n",
      "Epoch 198/300\n",
      "313/313 [==============================] - 3s 11ms/step - loss: 0.0113 - val_loss: 0.0114\n",
      "Epoch 199/300\n",
      "313/313 [==============================] - 4s 14ms/step - loss: 0.0113 - val_loss: 0.0114\n",
      "Epoch 200/300\n",
      "313/313 [==============================] - 4s 12ms/step - loss: 0.0113 - val_loss: 0.0113\n",
      "Epoch 201/300\n",
      "313/313 [==============================] - 4s 12ms/step - loss: 0.0113 - val_loss: 0.0114\n",
      "Epoch 202/300\n",
      "313/313 [==============================] - 3s 11ms/step - loss: 0.0113 - val_loss: 0.0114\n",
      "Epoch 203/300\n",
      "313/313 [==============================] - 3s 11ms/step - loss: 0.0113 - val_loss: 0.0113\n",
      "Epoch 204/300\n",
      "313/313 [==============================] - 3s 11ms/step - loss: 0.0113 - val_loss: 0.0113\n",
      "Epoch 205/300\n",
      "313/313 [==============================] - 4s 13ms/step - loss: 0.0113 - val_loss: 0.0114\n",
      "Epoch 206/300\n",
      "313/313 [==============================] - 4s 13ms/step - loss: 0.0113 - val_loss: 0.0114\n",
      "Epoch 207/300\n",
      "313/313 [==============================] - 4s 11ms/step - loss: 0.0113 - val_loss: 0.0114\n",
      "Epoch 208/300\n",
      "313/313 [==============================] - 3s 11ms/step - loss: 0.0113 - val_loss: 0.0113\n",
      "Epoch 209/300\n",
      "313/313 [==============================] - 3s 11ms/step - loss: 0.0113 - val_loss: 0.0113\n",
      "Epoch 210/300\n",
      "313/313 [==============================] - 4s 11ms/step - loss: 0.0113 - val_loss: 0.0113\n",
      "Epoch 211/300\n",
      "313/313 [==============================] - 4s 12ms/step - loss: 0.0113 - val_loss: 0.0114\n",
      "Epoch 212/300\n",
      "313/313 [==============================] - 4s 12ms/step - loss: 0.0113 - val_loss: 0.0114\n",
      "Epoch 213/300\n",
      "313/313 [==============================] - 4s 11ms/step - loss: 0.0113 - val_loss: 0.0113\n",
      "Epoch 214/300\n",
      "313/313 [==============================] - 4s 12ms/step - loss: 0.0113 - val_loss: 0.0114\n",
      "Epoch 215/300\n",
      "313/313 [==============================] - 4s 12ms/step - loss: 0.0113 - val_loss: 0.0113\n",
      "Epoch 216/300\n",
      "313/313 [==============================] - 3s 11ms/step - loss: 0.0113 - val_loss: 0.0114\n",
      "Epoch 217/300\n",
      "313/313 [==============================] - 4s 11ms/step - loss: 0.0113 - val_loss: 0.0113\n",
      "Epoch 218/300\n",
      "313/313 [==============================] - 4s 11ms/step - loss: 0.0112 - val_loss: 0.0114\n",
      "Epoch 219/300\n",
      "313/313 [==============================] - 3s 11ms/step - loss: 0.0113 - val_loss: 0.0114\n",
      "Epoch 220/300\n",
      "313/313 [==============================] - 3s 11ms/step - loss: 0.0113 - val_loss: 0.0113\n",
      "Epoch 221/300\n",
      "313/313 [==============================] - 4s 11ms/step - loss: 0.0112 - val_loss: 0.0113\n",
      "Epoch 222/300\n",
      "313/313 [==============================] - 4s 11ms/step - loss: 0.0112 - val_loss: 0.0113\n",
      "Epoch 223/300\n",
      "313/313 [==============================] - 3s 11ms/step - loss: 0.0112 - val_loss: 0.0113\n",
      "Epoch 224/300\n",
      "313/313 [==============================] - 3s 11ms/step - loss: 0.0112 - val_loss: 0.0113\n",
      "Epoch 225/300\n",
      "313/313 [==============================] - 3s 11ms/step - loss: 0.0113 - val_loss: 0.0113\n",
      "Epoch 226/300\n",
      "313/313 [==============================] - 3s 11ms/step - loss: 0.0113 - val_loss: 0.0113\n",
      "Epoch 227/300\n",
      "313/313 [==============================] - 4s 11ms/step - loss: 0.0113 - val_loss: 0.0114\n",
      "Epoch 228/300\n",
      "313/313 [==============================] - 3s 11ms/step - loss: 0.0112 - val_loss: 0.0114\n",
      "Epoch 229/300\n",
      "313/313 [==============================] - 4s 11ms/step - loss: 0.0113 - val_loss: 0.0114\n",
      "Epoch 230/300\n",
      "313/313 [==============================] - 4s 11ms/step - loss: 0.0112 - val_loss: 0.0113\n",
      "Epoch 231/300\n",
      "313/313 [==============================] - 3s 11ms/step - loss: 0.0112 - val_loss: 0.0114\n",
      "Epoch 232/300\n",
      "313/313 [==============================] - 4s 13ms/step - loss: 0.0112 - val_loss: 0.0113\n",
      "Epoch 233/300\n",
      "313/313 [==============================] - 4s 12ms/step - loss: 0.0113 - val_loss: 0.0113\n",
      "Epoch 234/300\n",
      "313/313 [==============================] - 3s 11ms/step - loss: 0.0113 - val_loss: 0.0113\n",
      "Epoch 235/300\n",
      "313/313 [==============================] - 3s 11ms/step - loss: 0.0112 - val_loss: 0.0113\n",
      "Epoch 236/300\n",
      "313/313 [==============================] - 3s 10ms/step - loss: 0.0112 - val_loss: 0.0113\n",
      "Epoch 237/300\n",
      "313/313 [==============================] - 3s 10ms/step - loss: 0.0112 - val_loss: 0.0113\n",
      "Epoch 238/300\n",
      "313/313 [==============================] - 4s 12ms/step - loss: 0.0112 - val_loss: 0.0113\n",
      "Epoch 239/300\n",
      "313/313 [==============================] - 4s 13ms/step - loss: 0.0112 - val_loss: 0.0113\n",
      "Epoch 240/300\n",
      "313/313 [==============================] - 4s 11ms/step - loss: 0.0112 - val_loss: 0.0113\n",
      "Epoch 241/300\n",
      "313/313 [==============================] - 4s 11ms/step - loss: 0.0112 - val_loss: 0.0113\n",
      "Epoch 242/300\n",
      "313/313 [==============================] - 3s 11ms/step - loss: 0.0112 - val_loss: 0.0113\n",
      "Epoch 243/300\n",
      "313/313 [==============================] - 3s 11ms/step - loss: 0.0112 - val_loss: 0.0113\n",
      "Epoch 244/300\n",
      "313/313 [==============================] - 4s 11ms/step - loss: 0.0112 - val_loss: 0.0114\n",
      "Epoch 245/300\n",
      "313/313 [==============================] - 3s 11ms/step - loss: 0.0112 - val_loss: 0.0113\n",
      "Epoch 246/300\n",
      "313/313 [==============================] - 3s 10ms/step - loss: 0.0112 - val_loss: 0.0113\n",
      "Epoch 247/300\n",
      "313/313 [==============================] - 3s 11ms/step - loss: 0.0112 - val_loss: 0.0112\n",
      "Epoch 248/300\n",
      "313/313 [==============================] - 3s 11ms/step - loss: 0.0112 - val_loss: 0.0112\n",
      "Epoch 249/300\n",
      "313/313 [==============================] - 4s 13ms/step - loss: 0.0112 - val_loss: 0.0113\n",
      "Epoch 250/300\n",
      "313/313 [==============================] - 4s 12ms/step - loss: 0.0112 - val_loss: 0.0113\n",
      "Epoch 251/300\n",
      "313/313 [==============================] - 3s 11ms/step - loss: 0.0112 - val_loss: 0.0113\n",
      "Epoch 252/300\n",
      "313/313 [==============================] - 4s 11ms/step - loss: 0.0112 - val_loss: 0.0113\n",
      "Epoch 253/300\n",
      "313/313 [==============================] - 4s 13ms/step - loss: 0.0112 - val_loss: 0.0113\n",
      "Epoch 254/300\n",
      "313/313 [==============================] - 3s 10ms/step - loss: 0.0112 - val_loss: 0.0113\n",
      "Epoch 255/300\n",
      "313/313 [==============================] - 3s 11ms/step - loss: 0.0112 - val_loss: 0.0113\n",
      "Epoch 256/300\n",
      "313/313 [==============================] - 4s 13ms/step - loss: 0.0112 - val_loss: 0.0113\n",
      "Epoch 257/300\n",
      "313/313 [==============================] - 3s 11ms/step - loss: 0.0112 - val_loss: 0.0113\n",
      "Epoch 258/300\n",
      "313/313 [==============================] - 3s 10ms/step - loss: 0.0112 - val_loss: 0.0112\n",
      "Epoch 259/300\n",
      "313/313 [==============================] - 3s 11ms/step - loss: 0.0112 - val_loss: 0.0113\n",
      "Epoch 260/300\n",
      "313/313 [==============================] - 3s 10ms/step - loss: 0.0112 - val_loss: 0.0113\n",
      "Epoch 261/300\n",
      "313/313 [==============================] - 3s 11ms/step - loss: 0.0112 - val_loss: 0.0113\n",
      "Epoch 262/300\n",
      "313/313 [==============================] - 3s 10ms/step - loss: 0.0112 - val_loss: 0.0113\n",
      "Epoch 263/300\n",
      "313/313 [==============================] - 3s 11ms/step - loss: 0.0112 - val_loss: 0.0113\n",
      "Epoch 264/300\n",
      "313/313 [==============================] - 4s 11ms/step - loss: 0.0112 - val_loss: 0.0113\n",
      "Epoch 265/300\n",
      "313/313 [==============================] - 4s 12ms/step - loss: 0.0112 - val_loss: 0.0112\n",
      "Epoch 266/300\n",
      "313/313 [==============================] - 4s 11ms/step - loss: 0.0112 - val_loss: 0.0113\n",
      "Epoch 267/300\n",
      "313/313 [==============================] - 4s 11ms/step - loss: 0.0112 - val_loss: 0.0113\n",
      "Epoch 268/300\n",
      "313/313 [==============================] - 4s 11ms/step - loss: 0.0112 - val_loss: 0.0112\n",
      "Epoch 269/300\n",
      "313/313 [==============================] - 4s 11ms/step - loss: 0.0112 - val_loss: 0.0112\n",
      "Epoch 270/300\n",
      "313/313 [==============================] - 4s 12ms/step - loss: 0.0112 - val_loss: 0.0113\n",
      "Epoch 271/300\n",
      "313/313 [==============================] - 4s 11ms/step - loss: 0.0112 - val_loss: 0.0113\n",
      "Epoch 272/300\n",
      "313/313 [==============================] - 3s 11ms/step - loss: 0.0112 - val_loss: 0.0113\n",
      "Epoch 273/300\n",
      "313/313 [==============================] - 3s 11ms/step - loss: 0.0112 - val_loss: 0.0113\n",
      "Epoch 274/300\n",
      "313/313 [==============================] - 4s 12ms/step - loss: 0.0112 - val_loss: 0.0113\n",
      "Epoch 275/300\n",
      "313/313 [==============================] - 4s 12ms/step - loss: 0.0112 - val_loss: 0.0112\n",
      "Epoch 276/300\n",
      "313/313 [==============================] - 4s 12ms/step - loss: 0.0112 - val_loss: 0.0113\n",
      "Epoch 277/300\n",
      "313/313 [==============================] - 4s 11ms/step - loss: 0.0112 - val_loss: 0.0112\n",
      "Epoch 278/300\n",
      "313/313 [==============================] - 3s 11ms/step - loss: 0.0112 - val_loss: 0.0112\n",
      "Epoch 279/300\n",
      "313/313 [==============================] - 4s 12ms/step - loss: 0.0112 - val_loss: 0.0113\n",
      "Epoch 280/300\n",
      "313/313 [==============================] - 4s 13ms/step - loss: 0.0112 - val_loss: 0.0112\n",
      "Epoch 281/300\n",
      "313/313 [==============================] - 4s 14ms/step - loss: 0.0112 - val_loss: 0.0112\n",
      "Epoch 282/300\n",
      "313/313 [==============================] - 4s 12ms/step - loss: 0.0112 - val_loss: 0.0113\n",
      "Epoch 283/300\n",
      "313/313 [==============================] - 4s 12ms/step - loss: 0.0112 - val_loss: 0.0112\n",
      "Epoch 284/300\n",
      "313/313 [==============================] - 4s 11ms/step - loss: 0.0112 - val_loss: 0.0112\n",
      "Epoch 285/300\n",
      "313/313 [==============================] - 3s 11ms/step - loss: 0.0112 - val_loss: 0.0113\n",
      "Epoch 286/300\n",
      "313/313 [==============================] - 4s 11ms/step - loss: 0.0112 - val_loss: 0.0112\n",
      "Epoch 287/300\n",
      "313/313 [==============================] - 4s 12ms/step - loss: 0.0112 - val_loss: 0.0112\n",
      "Epoch 288/300\n",
      "313/313 [==============================] - 3s 11ms/step - loss: 0.0112 - val_loss: 0.0112\n",
      "Epoch 289/300\n",
      "313/313 [==============================] - 4s 11ms/step - loss: 0.0112 - val_loss: 0.0112\n",
      "Epoch 290/300\n",
      "313/313 [==============================] - 4s 14ms/step - loss: 0.0112 - val_loss: 0.0112\n",
      "Epoch 291/300\n",
      "313/313 [==============================] - 4s 12ms/step - loss: 0.0112 - val_loss: 0.0112\n",
      "Epoch 292/300\n",
      "313/313 [==============================] - 4s 11ms/step - loss: 0.0112 - val_loss: 0.0112\n",
      "Epoch 293/300\n",
      "313/313 [==============================] - 4s 12ms/step - loss: 0.0112 - val_loss: 0.0112\n",
      "Epoch 294/300\n",
      "313/313 [==============================] - 4s 12ms/step - loss: 0.0112 - val_loss: 0.0112\n",
      "Epoch 295/300\n",
      "313/313 [==============================] - 4s 13ms/step - loss: 0.0112 - val_loss: 0.0112\n",
      "Epoch 296/300\n",
      "313/313 [==============================] - 4s 13ms/step - loss: 0.0112 - val_loss: 0.0112\n",
      "Epoch 297/300\n",
      "313/313 [==============================] - 4s 11ms/step - loss: 0.0112 - val_loss: 0.0113\n",
      "Epoch 298/300\n",
      "313/313 [==============================] - 4s 11ms/step - loss: 0.0112 - val_loss: 0.0112\n",
      "Epoch 299/300\n",
      "313/313 [==============================] - 3s 11ms/step - loss: 0.0112 - val_loss: 0.0112\n",
      "Epoch 300/300\n",
      "313/313 [==============================] - 4s 11ms/step - loss: 0.0112 - val_loss: 0.0113\n"
     ]
    }
   ],
   "source": [
    "history = autoencoder.fit(normal_train_data, normal_train_data, \n",
    "          epochs=300, \n",
    "          batch_size=512,\n",
    "          validation_data=(test_data, test_data),\n",
    "          shuffle=True)"
   ]
  },
  {
   "cell_type": "code",
   "execution_count": 72,
   "id": "3a349ec4-fc93-43ef-ab5c-3ea21d779795",
   "metadata": {},
   "outputs": [
    {
     "data": {
      "text/plain": [
       "<matplotlib.legend.Legend at 0x1e531ffd870>"
      ]
     },
     "execution_count": 72,
     "metadata": {},
     "output_type": "execute_result"
    },
    {
     "data": {
      "image/png": "[encoded data removed]",
      "text/plain": [
       "<Figure size 640x480 with 1 Axes>"
      ]
     },
     "metadata": {},
     "output_type": "display_data"
    }
   ],
   "source": [
    "plt.plot(history.history[\"loss\"], label=\"Training Loss\")\n",
    "plt.plot(history.history[\"val_loss\"], label=\"Validation Loss\")\n",
    "plt.legend()"
   ]
  },
  {
   "cell_type": "markdown",
   "id": "613e6be1-17a5-4140-9faa-a78f14ab3efa",
   "metadata": {},
   "source": [
    "## Perdida de reconstrucción en ENERO (entrenamiento)"
   ]
  },
  {
   "cell_type": "code",
   "execution_count": 73,
   "id": "1541e106-8f0e-422e-b36e-06d5781b9553",
   "metadata": {},
   "outputs": [
    {
     "name": "stdout",
     "output_type": "stream",
     "text": [
      "4995/4995 [==============================] - 8s 2ms/step\n"
     ]
    },
    {
     "data": {
      "image/png": "[encoded data removed]",
      "text/plain": [
       "<Figure size 640x480 with 1 Axes>"
      ]
     },
     "metadata": {},
     "output_type": "display_data"
    }
   ],
   "source": [
    "reconstructions = autoencoder.predict(normal_train_data)\n",
    "train_loss = tf.keras.losses.mae(reconstructions, normal_train_data)\n",
    "\n",
    "plt.hist(train_loss[None,:], bins=50)\n",
    "plt.xlabel(\"Train loss\")\n",
    "plt.ylabel(\"No of examples\")\n",
    "plt.show()"
   ]
  },
  {
   "cell_type": "code",
   "execution_count": null,
   "id": "6b510b81-399a-4050-9844-08d6c8c39e33",
   "metadata": {},
   "outputs": [],
   "source": []
  },
  {
   "cell_type": "code",
   "execution_count": 98,
   "id": "8071cd0f-5308-4092-b440-17cdf0e0312d",
   "metadata": {},
   "outputs": [
    {
     "name": "stdout",
     "output_type": "stream",
     "text": [
      "48/48 [==============================] - 0s 938us/step\n"
     ]
    },
    {
     "data": {
      "image/png": "[encoded data removed]",
      "text/plain": [
       "<Figure size 640x480 with 1 Axes>"
      ]
     },
     "metadata": {},
     "output_type": "display_data"
    }
   ],
   "source": [
    "reconstructions = autoencoder.predict(anomalous_train_data)\n",
    "test_loss = tf.keras.losses.mae(reconstructions, anomalous_train_data)\n",
    "\n",
    "plt.hist(test_loss[None, :], bins=50)\n",
    "plt.xlabel(\"Test loss\")\n",
    "plt.ylabel(\"No of examples\")\n",
    "plt.show()"
   ]
  },
  {
   "cell_type": "code",
   "execution_count": 169,
   "id": "bbeea60e-d3a6-479d-a20e-0095f84f109d",
   "metadata": {},
   "outputs": [],
   "source": [
    "def ganancia (normal,anormal):\n",
    "    gan = 78000*anormal-2000*normal\n",
    "    return gan\n",
    "\n",
    "\n",
    "\n",
    "def corte (normal,anormal):\n",
    "    ganancia_max = -2000000\n",
    "    thresold = None\n",
    "    cantidad_envios= None\n",
    "    for c in np.arange(0.01,0.08,0.0001):\n",
    "        cant_normal = np.count_nonzero(normal > c)\n",
    "        cant_anormal = np.count_nonzero( anormal > c)\n",
    "        gan = ganancia (cant_normal,cant_anormal)\n",
    "        if gan >ganancia_max:\n",
    "            threshold = c\n",
    "            ganancia_max = gan\n",
    "            cantidad_envios = cant_normal+cant_anormal\n",
    "    return threshold,ganancia_max,cantidad_envios\n",
    "\n",
    "    "
   ]
  },
  {
   "cell_type": "code",
   "execution_count": 170,
   "id": "b610e35a-9b63-482b-94bb-cecab04b76cb",
   "metadata": {},
   "outputs": [],
   "source": [
    "anormal = test_loss.numpy()\n",
    "normal = train_loss.numpy()\n",
    "\n",
    "c, ganancia, envios = corte(normal,anormal) # en base a entrenamiento saco mi mejor punto de corte que maximiza mi ganancia\n"
   ]
  },
  {
   "cell_type": "code",
   "execution_count": 173,
   "id": "faae4150-2a8d-47f0-9e78-47d49e92e1b3",
   "metadata": {},
   "outputs": [
    {
     "data": {
      "text/plain": [
       "12571"
      ]
     },
     "execution_count": 173,
     "metadata": {},
     "output_type": "execute_result"
    }
   ],
   "source": [
    "envios"
   ]
  },
  {
   "cell_type": "markdown",
   "id": "b79c5b45-b653-424c-adc3-4764a1eee149",
   "metadata": {},
   "source": [
    "## Predicción contra marzo (TEST)"
   ]
  },
  {
   "cell_type": "code",
   "execution_count": 188,
   "id": "89c65f3f-df97-4237-be55-7516686b90c9",
   "metadata": {},
   "outputs": [
    {
     "name": "stdout",
     "output_type": "stream",
     "text": [
      "5029/5029 [==============================] - 8s 2ms/step\n"
     ]
    }
   ],
   "source": [
    "reconstruccion_marzo_continua =  autoencoder.predict(normal_test_data)\n",
    "marzo_loss_continua =  tf.keras.losses.mae(reconstruccion_marzo_continua, normal_test_data)"
   ]
  },
  {
   "cell_type": "code",
   "execution_count": 189,
   "id": "53d319ac-4f7e-44d6-9a58-574b3c311a6b",
   "metadata": {},
   "outputs": [
    {
     "data": {
      "image/png": "[encoded data removed]",
      "text/plain": [
       "<Figure size 640x480 with 1 Axes>"
      ]
     },
     "metadata": {},
     "output_type": "display_data"
    }
   ],
   "source": [
    "plt.hist(marzo_loss_continua[None, :], bins=50)\n",
    "plt.xlabel(\"Marzo loss casos continua\")\n",
    "plt.ylabel(\"No of examples\")\n",
    "plt.show()"
   ]
  },
  {
   "cell_type": "code",
   "execution_count": 190,
   "id": "721d301c-4162-40f1-8c01-2f8d61322161",
   "metadata": {},
   "outputs": [
    {
     "name": "stdout",
     "output_type": "stream",
     "text": [
      "62/62 [==============================] - 0s 2ms/step\n"
     ]
    }
   ],
   "source": [
    "reconstruccion_marzo_abandona =  autoencoder.predict(anomalous_test_data)\n",
    "marzo_loss_abandona =  tf.keras.losses.mae(reconstruccion_marzo_abandona, anomalous_test_data)"
   ]
  },
  {
   "cell_type": "code",
   "execution_count": 191,
   "id": "e8af67fe-7550-4428-9aa4-ab11cc488ba2",
   "metadata": {},
   "outputs": [
    {
     "data": {
      "image/png": "[encoded data removed]",
      "text/plain": [
       "<Figure size 640x480 with 1 Axes>"
      ]
     },
     "metadata": {},
     "output_type": "display_data"
    }
   ],
   "source": [
    "plt.hist(marzo_loss_abandona[None, :], bins=50)\n",
    "plt.xlabel(\"Marzo loss casos BAJA+2 BAJA+1\")\n",
    "plt.ylabel(\"No of examples\")\n",
    "plt.show()"
   ]
  },
  {
   "cell_type": "code",
   "execution_count": 192,
   "id": "d4bd21e0-4967-47ef-86fe-9c2bd2f46242",
   "metadata": {},
   "outputs": [
    {
     "data": {
      "text/plain": [
       "'\\ncantidad_continua = np.count_nonzero(marzo_loss_continua > c)\\ncantidad_abandona = np.count_nonzero(marzo_loss_abandona > c)\\n\\nganancia_marzo = ganancia (normal=cantidad_continua,anormal=cantidad_abandona)\\nganancia_marzo'"
      ]
     },
     "execution_count": 192,
     "metadata": {},
     "output_type": "execute_result"
    }
   ],
   "source": [
    "#CALCULO DE GANANCIA PARA MARZO USANDO PUNTO DE CORTE OBTENIDO EN ENERO\n",
    "marzo_loss_abandona = marzo_loss_abandona.numpy()\n",
    "marzo_loss_continua = marzo_loss_continua.numpy()\n",
    "\n"
   ]
  },
  {
   "cell_type": "code",
   "execution_count": 193,
   "id": "9ebafad6-bbb6-4d22-866a-d80f57347b87",
   "metadata": {},
   "outputs": [],
   "source": [
    "cantidad_continua = np.count_nonzero(marzo_loss_continua > c)\n",
    "cantidad_abandona = np.count_nonzero(marzo_loss_abandona > c)"
   ]
  },
  {
   "cell_type": "code",
   "execution_count": 194,
   "id": "769e7998-5193-479f-8438-0d47ace7c7af",
   "metadata": {},
   "outputs": [
    {
     "data": {
      "text/plain": [
       "12675"
      ]
     },
     "execution_count": 194,
     "metadata": {},
     "output_type": "execute_result"
    }
   ],
   "source": [
    "cantidad_continua # cantidad de clientes que estimularia y hubieran continuado"
   ]
  },
  {
   "cell_type": "code",
   "execution_count": 195,
   "id": "caa8ef0a-c46e-4558-aefc-1f5cf78d82d5",
   "metadata": {},
   "outputs": [
    {
     "data": {
      "text/plain": [
       "547"
      ]
     },
     "execution_count": 195,
     "metadata": {},
     "output_type": "execute_result"
    }
   ],
   "source": [
    "cantidad_abandona #cantidad de clientes que estimularia y se hubieran ido (sumando baja+1 y baja+2)"
   ]
  },
  {
   "cell_type": "code",
   "execution_count": 197,
   "id": "40c0b152-035f-4870-a45b-cd98260712bf",
   "metadata": {},
   "outputs": [
    {
     "data": {
      "text/plain": [
       "17316000"
      ]
     },
     "execution_count": 197,
     "metadata": {},
     "output_type": "execute_result"
    }
   ],
   "source": [
    "78000*cantidad_abandona-2000*cantidad_continua"
   ]
  },
  {
   "cell_type": "markdown",
   "id": "cf16cc6b-3de8-4868-9e2f-2ce0ec02b9b3",
   "metadata": {},
   "source": [
    "## CONCLUSIÓN \n",
    "\n",
    "El modelo es exitoso y arroja ganancias positivas en la clasificación de clientes, se puede distinguir claramente dos distribuciones totalmente diferentes en los errores de reconstrucción en ambas clases. Pero como contraposición, no alcanza los valores de ganancias que ofrecen los algoritmos de boosting."
   ]
  },
  {
   "cell_type": "code",
   "execution_count": null,
   "id": "0baa2985-1def-40f3-849e-9730bf69c8b6",
   "metadata": {},
   "outputs": [],
   "source": []
  }
 ],
 "metadata": {
  "kernelspec": {
   "display_name": "Python 3 (ipykernel)",
   "language": "python",
   "name": "python3"
  },
  "language_info": {
   "codemirror_mode": {
    "name": "ipython",
    "version": 3
   },
   "file_extension": ".py",
   "mimetype": "text/x-python",
   "name": "python",
   "nbconvert_exporter": "python",
   "pygments_lexer": "ipython3",
   "version": "3.10.6"
  }
 },
 "nbformat": 4,
 "nbformat_minor": 5
}
