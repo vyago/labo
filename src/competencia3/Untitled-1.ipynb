{
 "cells": [
  {
   "cell_type": "code",
   "execution_count": 23,
   "metadata": {},
   "outputs": [],
   "source": [
    "import pandas as pd\n",
    "import os"
   ]
  },
  {
   "cell_type": "code",
   "execution_count": 24,
   "metadata": {},
   "outputs": [],
   "source": [
    "ruta = \"C:/Users/vyago/Desktop/Maestría Ciencias de Datos/07-DMEYF/exp/KA9413\"\n",
    "os.chdir(ruta)"
   ]
  },
  {
   "cell_type": "code",
   "execution_count": 25,
   "metadata": {},
   "outputs": [],
   "source": [
    "predicciones = pd.read_csv(f'{ruta}/exp_ZZ9413_pred_01_018.csv',sep='\\t')"
   ]
  },
  {
   "cell_type": "code",
   "execution_count": 26,
   "metadata": {},
   "outputs": [],
   "source": [
    "pred = predicciones.sort_values(\"prob\",ascending=False)"
   ]
  },
  {
   "cell_type": "code",
   "execution_count": 28,
   "metadata": {},
   "outputs": [],
   "source": [
    "seleccion=pred.head(13000)[\"numero_de_cliente\"]"
   ]
  },
  {
   "cell_type": "code",
   "execution_count": 32,
   "metadata": {},
   "outputs": [],
   "source": [
    "for i in range(12500,15000,500):\n",
    "    seleccion=pred.head(i)[\"numero_de_cliente\"].to_list()\n",
    "    entrega = pd.DataFrame()\n",
    "    entrega[\"numero_de_cliente\"] = predicciones[\"numero_de_cliente\"]\n",
    "    entrega[\"Predicted\"] = entrega[\"numero_de_cliente\"].apply( lambda x : 1 if x in seleccion else 0)\n",
    "\n",
    "    entrega.to_csv(f\"entrega_{i}.csv\",index=False)"
   ]
  },
  {
   "cell_type": "code",
   "execution_count": 30,
   "metadata": {},
   "outputs": [],
   "source": [
    "seleccion=pred.head(13500)[\"numero_de_cliente\"].to_list()\n",
    "entrega = pd.DataFrame()\n",
    "entrega[\"numero_de_cliente\"] = predicciones[\"numero_de_cliente\"]\n",
    "entrega[\"Predicted\"] = entrega[\"numero_de_cliente\"].apply( lambda x : 1 if x in seleccion else 0)"
   ]
  },
  {
   "cell_type": "code",
   "execution_count": 31,
   "metadata": {},
   "outputs": [
    {
     "data": {
      "text/html": [
       "<div>\n",
       "<style scoped>\n",
       "    .dataframe tbody tr th:only-of-type {\n",
       "        vertical-align: middle;\n",
       "    }\n",
       "\n",
       "    .dataframe tbody tr th {\n",
       "        vertical-align: top;\n",
       "    }\n",
       "\n",
       "    .dataframe thead th {\n",
       "        text-align: right;\n",
       "    }\n",
       "</style>\n",
       "<table border=\"1\" class=\"dataframe\">\n",
       "  <thead>\n",
       "    <tr style=\"text-align: right;\">\n",
       "      <th></th>\n",
       "      <th>numero_de_cliente</th>\n",
       "      <th>Predicted</th>\n",
       "    </tr>\n",
       "  </thead>\n",
       "  <tbody>\n",
       "    <tr>\n",
       "      <th>0</th>\n",
       "      <td>31115668</td>\n",
       "      <td>0</td>\n",
       "    </tr>\n",
       "    <tr>\n",
       "      <th>1</th>\n",
       "      <td>31115678</td>\n",
       "      <td>0</td>\n",
       "    </tr>\n",
       "    <tr>\n",
       "      <th>2</th>\n",
       "      <td>31117415</td>\n",
       "      <td>0</td>\n",
       "    </tr>\n",
       "    <tr>\n",
       "      <th>3</th>\n",
       "      <td>31117711</td>\n",
       "      <td>0</td>\n",
       "    </tr>\n",
       "    <tr>\n",
       "      <th>4</th>\n",
       "      <td>31118145</td>\n",
       "      <td>0</td>\n",
       "    </tr>\n",
       "    <tr>\n",
       "      <th>...</th>\n",
       "      <td>...</td>\n",
       "      <td>...</td>\n",
       "    </tr>\n",
       "    <tr>\n",
       "      <th>164343</th>\n",
       "      <td>214007475</td>\n",
       "      <td>1</td>\n",
       "    </tr>\n",
       "    <tr>\n",
       "      <th>164344</th>\n",
       "      <td>214013525</td>\n",
       "      <td>1</td>\n",
       "    </tr>\n",
       "    <tr>\n",
       "      <th>164345</th>\n",
       "      <td>214027885</td>\n",
       "      <td>0</td>\n",
       "    </tr>\n",
       "    <tr>\n",
       "      <th>164346</th>\n",
       "      <td>214028073</td>\n",
       "      <td>1</td>\n",
       "    </tr>\n",
       "    <tr>\n",
       "      <th>164347</th>\n",
       "      <td>214040232</td>\n",
       "      <td>0</td>\n",
       "    </tr>\n",
       "  </tbody>\n",
       "</table>\n",
       "<p>164348 rows × 2 columns</p>\n",
       "</div>"
      ],
      "text/plain": [
       "        numero_de_cliente  Predicted\n",
       "0                31115668          0\n",
       "1                31115678          0\n",
       "2                31117415          0\n",
       "3                31117711          0\n",
       "4                31118145          0\n",
       "...                   ...        ...\n",
       "164343          214007475          1\n",
       "164344          214013525          1\n",
       "164345          214027885          0\n",
       "164346          214028073          1\n",
       "164347          214040232          0\n",
       "\n",
       "[164348 rows x 2 columns]"
      ]
     },
     "execution_count": 31,
     "metadata": {},
     "output_type": "execute_result"
    }
   ],
   "source": []
  },
  {
   "cell_type": "code",
   "execution_count": null,
   "metadata": {},
   "outputs": [],
   "source": []
  }
 ],
 "metadata": {
  "kernelspec": {
   "display_name": "Python 3.10.6 64-bit",
   "language": "python",
   "name": "python3"
  },
  "language_info": {
   "codemirror_mode": {
    "name": "ipython",
    "version": 3
   },
   "file_extension": ".py",
   "mimetype": "text/x-python",
   "name": "python",
   "nbconvert_exporter": "python",
   "pygments_lexer": "ipython3",
   "version": "3.10.6"
  },
  "orig_nbformat": 4,
  "vscode": {
   "interpreter": {
    "hash": "8d832290213029041eddbbc4b8a0a553d5df210b193f32fda00218f7fc512b12"
   }
  }
 },
 "nbformat": 4,
 "nbformat_minor": 2
}
